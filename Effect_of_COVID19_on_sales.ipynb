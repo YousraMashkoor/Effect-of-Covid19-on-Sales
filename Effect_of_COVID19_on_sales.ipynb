{
  "nbformat": 4,
  "nbformat_minor": 0,
  "metadata": {
    "colab": {
      "name": "effect of COVID19 on sales.ipynb",
      "provenance": [],
      "collapsed_sections": []
    },
    "kernelspec": {
      "name": "python3",
      "display_name": "Python 3"
    }
  },
  "cells": [
    {
      "cell_type": "markdown",
      "metadata": {
        "id": "26NqNfQheGy6"
      },
      "source": [
        "# Effect of COVID19 on sales of in industries of US"
      ]
    },
    {
      "cell_type": "code",
      "metadata": {
        "id": "G_yH7czthJw9"
      },
      "source": [
        "import pandas as pd\n",
        "import numpy as np\n",
        "import matplotlib.pyplot as plt\n",
        "import seaborn as sns"
      ],
      "execution_count": null,
      "outputs": []
    },
    {
      "cell_type": "markdown",
      "metadata": {
        "id": "fJgUnYFWePeB"
      },
      "source": [
        "## Data Import and Cleaning"
      ]
    },
    {
      "cell_type": "markdown",
      "metadata": {
        "id": "vEP0Qisd476M"
      },
      "source": [
        "The source data is divided into three different datasets. \n",
        "1.\tSupermarket sales.\n",
        "2.\tStock prices of USA.\n",
        "3.\tPersonal Consumption Expenditures by Major Type of Product, Billions of Dollars.\n",
        "> * Food\n",
        "> * Services\n",
        "> * Medic-aid\n",
        "> * Durable goods\n",
        "> * Non-durable goods\n"
      ]
    },
    {
      "cell_type": "code",
      "metadata": {
        "id": "ucoYN23XeBNR"
      },
      "source": [
        "# stock US @https://finance.yahoo.com/quote/%5EIXIC/history?period1=1485302400&period2=1598313600&interval=1d&filter=history&frequency=1d\n",
        "stock = pd.read_csv(\"drive/My Drive/Dataset for COVID19 impact/nasdaq.csv\")\n",
        "\n",
        "# Personal consumption expenditures: @https://fred.stlouisfed.org/release/tables?rid=54&eid=3220#\n",
        "## food \n",
        "pce_food=pd.read_csv('drive/My Drive/Dataset for COVID19 impact/exp-food.csv')\n",
        "## services\n",
        "pce_services=pd.read_csv('drive/My Drive/Dataset for COVID19 impact/exp-services.csv')\n",
        "## durable goods\n",
        "pce_durable=pd.read_csv('drive/My Drive/Dataset for COVID19 impact/exp-durable-goods.csv')\n",
        "## nondurable goods\n",
        "pce_nondurable=pd.read_csv('drive/My Drive/Dataset for COVID19 impact/exp-nondurable-goods.csv')\n",
        "## medicaid\n",
        "pce_medicaid=pd.read_csv('drive/My Drive/Dataset for COVID19 impact/exp_medicaid.csv')\n",
        "\n",
        "# Super market sales: @https://www.kaggle.com/aungpyaeap/supermarket-sales\n",
        "supermarket_sales=pd.read_csv('drive/My Drive/Dataset for COVID19 impact/supermarket-sales.csv')\n"
      ],
      "execution_count": null,
      "outputs": []
    },
    {
      "cell_type": "code",
      "metadata": {
        "id": "ciGaE_YiiIZG",
        "outputId": "daa9b4c5-eac9-4a7e-cdff-4d2c6238e404",
        "colab": {
          "base_uri": "https://localhost:8080/",
          "height": 204
        }
      },
      "source": [
        "pce_services.head()"
      ],
      "execution_count": null,
      "outputs": [
        {
          "output_type": "execute_result",
          "data": {
            "text/html": [
              "<div>\n",
              "<style scoped>\n",
              "    .dataframe tbody tr th:only-of-type {\n",
              "        vertical-align: middle;\n",
              "    }\n",
              "\n",
              "    .dataframe tbody tr th {\n",
              "        vertical-align: top;\n",
              "    }\n",
              "\n",
              "    .dataframe thead th {\n",
              "        text-align: right;\n",
              "    }\n",
              "</style>\n",
              "<table border=\"1\" class=\"dataframe\">\n",
              "  <thead>\n",
              "    <tr style=\"text-align: right;\">\n",
              "      <th></th>\n",
              "      <th>DATE</th>\n",
              "      <th>PCES</th>\n",
              "    </tr>\n",
              "  </thead>\n",
              "  <tbody>\n",
              "    <tr>\n",
              "      <th>0</th>\n",
              "      <td>2011-01-01</td>\n",
              "      <td>6985.1</td>\n",
              "    </tr>\n",
              "    <tr>\n",
              "      <th>1</th>\n",
              "      <td>2011-02-01</td>\n",
              "      <td>7012.9</td>\n",
              "    </tr>\n",
              "    <tr>\n",
              "      <th>2</th>\n",
              "      <td>2011-03-01</td>\n",
              "      <td>7051.0</td>\n",
              "    </tr>\n",
              "    <tr>\n",
              "      <th>3</th>\n",
              "      <td>2011-04-01</td>\n",
              "      <td>7066.3</td>\n",
              "    </tr>\n",
              "    <tr>\n",
              "      <th>4</th>\n",
              "      <td>2011-05-01</td>\n",
              "      <td>7105.7</td>\n",
              "    </tr>\n",
              "  </tbody>\n",
              "</table>\n",
              "</div>"
            ],
            "text/plain": [
              "         DATE    PCES\n",
              "0  2011-01-01  6985.1\n",
              "1  2011-02-01  7012.9\n",
              "2  2011-03-01  7051.0\n",
              "3  2011-04-01  7066.3\n",
              "4  2011-05-01  7105.7"
            ]
          },
          "metadata": {
            "tags": []
          },
          "execution_count": 56
        }
      ]
    },
    {
      "cell_type": "markdown",
      "metadata": {
        "id": "mhgc7e-HFLKP"
      },
      "source": [
        "## **Industry before COVID19**\n",
        "\n",
        "---\n",
        "\n"
      ]
    },
    {
      "cell_type": "markdown",
      "metadata": {
        "id": "IeQgYJjDPmjb"
      },
      "source": [
        "### *Data:  supermarket sales*"
      ]
    },
    {
      "cell_type": "markdown",
      "metadata": {
        "id": "qMylxfPyQWEH"
      },
      "source": [
        "## Cleaning"
      ]
    },
    {
      "cell_type": "code",
      "metadata": {
        "id": "4bIYcpzcFKr0",
        "outputId": "4bac1a09-b6a9-4e7d-c2c4-1951ae87b086",
        "colab": {
          "base_uri": "https://localhost:8080/",
          "height": 343
        }
      },
      "source": [
        "supermarket_sales.head()"
      ],
      "execution_count": null,
      "outputs": [
        {
          "output_type": "execute_result",
          "data": {
            "text/html": [
              "<div>\n",
              "<style scoped>\n",
              "    .dataframe tbody tr th:only-of-type {\n",
              "        vertical-align: middle;\n",
              "    }\n",
              "\n",
              "    .dataframe tbody tr th {\n",
              "        vertical-align: top;\n",
              "    }\n",
              "\n",
              "    .dataframe thead th {\n",
              "        text-align: right;\n",
              "    }\n",
              "</style>\n",
              "<table border=\"1\" class=\"dataframe\">\n",
              "  <thead>\n",
              "    <tr style=\"text-align: right;\">\n",
              "      <th></th>\n",
              "      <th>Invoice ID</th>\n",
              "      <th>Branch</th>\n",
              "      <th>City</th>\n",
              "      <th>Customer type</th>\n",
              "      <th>Gender</th>\n",
              "      <th>Product line</th>\n",
              "      <th>Unit price</th>\n",
              "      <th>Quantity</th>\n",
              "      <th>Tax 5%</th>\n",
              "      <th>Total</th>\n",
              "      <th>Date</th>\n",
              "      <th>Time</th>\n",
              "      <th>Payment</th>\n",
              "      <th>cogs</th>\n",
              "      <th>gross margin percentage</th>\n",
              "      <th>gross income</th>\n",
              "      <th>Rating</th>\n",
              "    </tr>\n",
              "  </thead>\n",
              "  <tbody>\n",
              "    <tr>\n",
              "      <th>0</th>\n",
              "      <td>750-67-8428</td>\n",
              "      <td>A</td>\n",
              "      <td>Yangon</td>\n",
              "      <td>Member</td>\n",
              "      <td>Female</td>\n",
              "      <td>Health and beauty</td>\n",
              "      <td>74.69</td>\n",
              "      <td>7</td>\n",
              "      <td>26.1415</td>\n",
              "      <td>548.9715</td>\n",
              "      <td>1/5/2019</td>\n",
              "      <td>13:08</td>\n",
              "      <td>Ewallet</td>\n",
              "      <td>522.83</td>\n",
              "      <td>4.761905</td>\n",
              "      <td>26.1415</td>\n",
              "      <td>9.1</td>\n",
              "    </tr>\n",
              "    <tr>\n",
              "      <th>1</th>\n",
              "      <td>226-31-3081</td>\n",
              "      <td>C</td>\n",
              "      <td>Naypyitaw</td>\n",
              "      <td>Normal</td>\n",
              "      <td>Female</td>\n",
              "      <td>Electronic accessories</td>\n",
              "      <td>15.28</td>\n",
              "      <td>5</td>\n",
              "      <td>3.8200</td>\n",
              "      <td>80.2200</td>\n",
              "      <td>3/8/2019</td>\n",
              "      <td>10:29</td>\n",
              "      <td>Cash</td>\n",
              "      <td>76.40</td>\n",
              "      <td>4.761905</td>\n",
              "      <td>3.8200</td>\n",
              "      <td>9.6</td>\n",
              "    </tr>\n",
              "    <tr>\n",
              "      <th>2</th>\n",
              "      <td>631-41-3108</td>\n",
              "      <td>A</td>\n",
              "      <td>Yangon</td>\n",
              "      <td>Normal</td>\n",
              "      <td>Male</td>\n",
              "      <td>Home and lifestyle</td>\n",
              "      <td>46.33</td>\n",
              "      <td>7</td>\n",
              "      <td>16.2155</td>\n",
              "      <td>340.5255</td>\n",
              "      <td>3/3/2019</td>\n",
              "      <td>13:23</td>\n",
              "      <td>Credit card</td>\n",
              "      <td>324.31</td>\n",
              "      <td>4.761905</td>\n",
              "      <td>16.2155</td>\n",
              "      <td>7.4</td>\n",
              "    </tr>\n",
              "    <tr>\n",
              "      <th>3</th>\n",
              "      <td>123-19-1176</td>\n",
              "      <td>A</td>\n",
              "      <td>Yangon</td>\n",
              "      <td>Member</td>\n",
              "      <td>Male</td>\n",
              "      <td>Health and beauty</td>\n",
              "      <td>58.22</td>\n",
              "      <td>8</td>\n",
              "      <td>23.2880</td>\n",
              "      <td>489.0480</td>\n",
              "      <td>1/27/2019</td>\n",
              "      <td>20:33</td>\n",
              "      <td>Ewallet</td>\n",
              "      <td>465.76</td>\n",
              "      <td>4.761905</td>\n",
              "      <td>23.2880</td>\n",
              "      <td>8.4</td>\n",
              "    </tr>\n",
              "    <tr>\n",
              "      <th>4</th>\n",
              "      <td>373-73-7910</td>\n",
              "      <td>A</td>\n",
              "      <td>Yangon</td>\n",
              "      <td>Normal</td>\n",
              "      <td>Male</td>\n",
              "      <td>Sports and travel</td>\n",
              "      <td>86.31</td>\n",
              "      <td>7</td>\n",
              "      <td>30.2085</td>\n",
              "      <td>634.3785</td>\n",
              "      <td>2/8/2019</td>\n",
              "      <td>10:37</td>\n",
              "      <td>Ewallet</td>\n",
              "      <td>604.17</td>\n",
              "      <td>4.761905</td>\n",
              "      <td>30.2085</td>\n",
              "      <td>5.3</td>\n",
              "    </tr>\n",
              "  </tbody>\n",
              "</table>\n",
              "</div>"
            ],
            "text/plain": [
              "    Invoice ID Branch       City  ... gross margin percentage gross income Rating\n",
              "0  750-67-8428      A     Yangon  ...                4.761905      26.1415    9.1\n",
              "1  226-31-3081      C  Naypyitaw  ...                4.761905       3.8200    9.6\n",
              "2  631-41-3108      A     Yangon  ...                4.761905      16.2155    7.4\n",
              "3  123-19-1176      A     Yangon  ...                4.761905      23.2880    8.4\n",
              "4  373-73-7910      A     Yangon  ...                4.761905      30.2085    5.3\n",
              "\n",
              "[5 rows x 17 columns]"
            ]
          },
          "metadata": {
            "tags": []
          },
          "execution_count": 57
        }
      ]
    },
    {
      "cell_type": "code",
      "metadata": {
        "id": "9IW1_EW1VSD2",
        "outputId": "38565986-e3f9-44cb-83cb-a16cb8407576",
        "colab": {
          "base_uri": "https://localhost:8080/",
          "height": 323
        }
      },
      "source": [
        "supermarket_sales.isnull().sum()"
      ],
      "execution_count": null,
      "outputs": [
        {
          "output_type": "execute_result",
          "data": {
            "text/plain": [
              "Invoice ID                 0\n",
              "Branch                     0\n",
              "City                       0\n",
              "Customer type              0\n",
              "Gender                     0\n",
              "Product line               0\n",
              "Unit price                 0\n",
              "Quantity                   0\n",
              "Tax 5%                     0\n",
              "Total                      0\n",
              "Date                       0\n",
              "Time                       0\n",
              "Payment                    0\n",
              "cogs                       0\n",
              "gross margin percentage    0\n",
              "gross income               0\n",
              "Rating                     0\n",
              "dtype: int64"
            ]
          },
          "metadata": {
            "tags": []
          },
          "execution_count": 58
        }
      ]
    },
    {
      "cell_type": "code",
      "metadata": {
        "id": "y9NtyYyhVfqb",
        "outputId": "3f931b14-693e-4cad-b35c-185931a4b8bf",
        "colab": {
          "base_uri": "https://localhost:8080/",
          "height": 425
        }
      },
      "source": [
        "supermarket_sales.info()"
      ],
      "execution_count": null,
      "outputs": [
        {
          "output_type": "stream",
          "text": [
            "<class 'pandas.core.frame.DataFrame'>\n",
            "RangeIndex: 1000 entries, 0 to 999\n",
            "Data columns (total 17 columns):\n",
            " #   Column                   Non-Null Count  Dtype  \n",
            "---  ------                   --------------  -----  \n",
            " 0   Invoice ID               1000 non-null   object \n",
            " 1   Branch                   1000 non-null   object \n",
            " 2   City                     1000 non-null   object \n",
            " 3   Customer type            1000 non-null   object \n",
            " 4   Gender                   1000 non-null   object \n",
            " 5   Product line             1000 non-null   object \n",
            " 6   Unit price               1000 non-null   float64\n",
            " 7   Quantity                 1000 non-null   int64  \n",
            " 8   Tax 5%                   1000 non-null   float64\n",
            " 9   Total                    1000 non-null   float64\n",
            " 10  Date                     1000 non-null   object \n",
            " 11  Time                     1000 non-null   object \n",
            " 12  Payment                  1000 non-null   object \n",
            " 13  cogs                     1000 non-null   float64\n",
            " 14  gross margin percentage  1000 non-null   float64\n",
            " 15  gross income             1000 non-null   float64\n",
            " 16  Rating                   1000 non-null   float64\n",
            "dtypes: float64(7), int64(1), object(9)\n",
            "memory usage: 132.9+ KB\n"
          ],
          "name": "stdout"
        }
      ]
    },
    {
      "cell_type": "code",
      "metadata": {
        "id": "Djt8rPNKVrRq",
        "outputId": "c9fec9c5-0958-459b-d3e2-67b65357bfc8",
        "colab": {
          "base_uri": "https://localhost:8080/",
          "height": 297
        }
      },
      "source": [
        "supermarket_sales.describe()"
      ],
      "execution_count": null,
      "outputs": [
        {
          "output_type": "execute_result",
          "data": {
            "text/html": [
              "<div>\n",
              "<style scoped>\n",
              "    .dataframe tbody tr th:only-of-type {\n",
              "        vertical-align: middle;\n",
              "    }\n",
              "\n",
              "    .dataframe tbody tr th {\n",
              "        vertical-align: top;\n",
              "    }\n",
              "\n",
              "    .dataframe thead th {\n",
              "        text-align: right;\n",
              "    }\n",
              "</style>\n",
              "<table border=\"1\" class=\"dataframe\">\n",
              "  <thead>\n",
              "    <tr style=\"text-align: right;\">\n",
              "      <th></th>\n",
              "      <th>Unit price</th>\n",
              "      <th>Quantity</th>\n",
              "      <th>Tax 5%</th>\n",
              "      <th>Total</th>\n",
              "      <th>cogs</th>\n",
              "      <th>gross margin percentage</th>\n",
              "      <th>gross income</th>\n",
              "      <th>Rating</th>\n",
              "    </tr>\n",
              "  </thead>\n",
              "  <tbody>\n",
              "    <tr>\n",
              "      <th>count</th>\n",
              "      <td>1000.000000</td>\n",
              "      <td>1000.000000</td>\n",
              "      <td>1000.000000</td>\n",
              "      <td>1000.000000</td>\n",
              "      <td>1000.00000</td>\n",
              "      <td>1.000000e+03</td>\n",
              "      <td>1000.000000</td>\n",
              "      <td>1000.00000</td>\n",
              "    </tr>\n",
              "    <tr>\n",
              "      <th>mean</th>\n",
              "      <td>55.672130</td>\n",
              "      <td>5.510000</td>\n",
              "      <td>15.379369</td>\n",
              "      <td>322.966749</td>\n",
              "      <td>307.58738</td>\n",
              "      <td>4.761905e+00</td>\n",
              "      <td>15.379369</td>\n",
              "      <td>6.97270</td>\n",
              "    </tr>\n",
              "    <tr>\n",
              "      <th>std</th>\n",
              "      <td>26.494628</td>\n",
              "      <td>2.923431</td>\n",
              "      <td>11.708825</td>\n",
              "      <td>245.885335</td>\n",
              "      <td>234.17651</td>\n",
              "      <td>6.220360e-14</td>\n",
              "      <td>11.708825</td>\n",
              "      <td>1.71858</td>\n",
              "    </tr>\n",
              "    <tr>\n",
              "      <th>min</th>\n",
              "      <td>10.080000</td>\n",
              "      <td>1.000000</td>\n",
              "      <td>0.508500</td>\n",
              "      <td>10.678500</td>\n",
              "      <td>10.17000</td>\n",
              "      <td>4.761905e+00</td>\n",
              "      <td>0.508500</td>\n",
              "      <td>4.00000</td>\n",
              "    </tr>\n",
              "    <tr>\n",
              "      <th>25%</th>\n",
              "      <td>32.875000</td>\n",
              "      <td>3.000000</td>\n",
              "      <td>5.924875</td>\n",
              "      <td>124.422375</td>\n",
              "      <td>118.49750</td>\n",
              "      <td>4.761905e+00</td>\n",
              "      <td>5.924875</td>\n",
              "      <td>5.50000</td>\n",
              "    </tr>\n",
              "    <tr>\n",
              "      <th>50%</th>\n",
              "      <td>55.230000</td>\n",
              "      <td>5.000000</td>\n",
              "      <td>12.088000</td>\n",
              "      <td>253.848000</td>\n",
              "      <td>241.76000</td>\n",
              "      <td>4.761905e+00</td>\n",
              "      <td>12.088000</td>\n",
              "      <td>7.00000</td>\n",
              "    </tr>\n",
              "    <tr>\n",
              "      <th>75%</th>\n",
              "      <td>77.935000</td>\n",
              "      <td>8.000000</td>\n",
              "      <td>22.445250</td>\n",
              "      <td>471.350250</td>\n",
              "      <td>448.90500</td>\n",
              "      <td>4.761905e+00</td>\n",
              "      <td>22.445250</td>\n",
              "      <td>8.50000</td>\n",
              "    </tr>\n",
              "    <tr>\n",
              "      <th>max</th>\n",
              "      <td>99.960000</td>\n",
              "      <td>10.000000</td>\n",
              "      <td>49.650000</td>\n",
              "      <td>1042.650000</td>\n",
              "      <td>993.00000</td>\n",
              "      <td>4.761905e+00</td>\n",
              "      <td>49.650000</td>\n",
              "      <td>10.00000</td>\n",
              "    </tr>\n",
              "  </tbody>\n",
              "</table>\n",
              "</div>"
            ],
            "text/plain": [
              "        Unit price     Quantity  ...  gross income      Rating\n",
              "count  1000.000000  1000.000000  ...   1000.000000  1000.00000\n",
              "mean     55.672130     5.510000  ...     15.379369     6.97270\n",
              "std      26.494628     2.923431  ...     11.708825     1.71858\n",
              "min      10.080000     1.000000  ...      0.508500     4.00000\n",
              "25%      32.875000     3.000000  ...      5.924875     5.50000\n",
              "50%      55.230000     5.000000  ...     12.088000     7.00000\n",
              "75%      77.935000     8.000000  ...     22.445250     8.50000\n",
              "max      99.960000    10.000000  ...     49.650000    10.00000\n",
              "\n",
              "[8 rows x 8 columns]"
            ]
          },
          "metadata": {
            "tags": []
          },
          "execution_count": 60
        }
      ]
    },
    {
      "cell_type": "code",
      "metadata": {
        "id": "XqYDvMY5pxPE"
      },
      "source": [
        "supermarket_sales['Date'] = pd.to_datetime(supermarket_sales['Date'])"
      ],
      "execution_count": null,
      "outputs": []
    },
    {
      "cell_type": "markdown",
      "metadata": {
        "id": "Z1WXUFr4V33j"
      },
      "source": [
        "## Visualizing product sales"
      ]
    },
    {
      "cell_type": "code",
      "metadata": {
        "id": "cX1Z95GAV8Sq",
        "outputId": "93614097-27da-44f2-aaef-8c09f122a403",
        "colab": {
          "base_uri": "https://localhost:8080/",
          "height": 435
        }
      },
      "source": [
        "## boxen plot\n",
        "\n",
        "plt.figure(figsize = (14,6))\n",
        "ax = sns.boxenplot(y = \"Product line\", x = \"Total\", data = supermarket_sales)\n",
        "ax.set_title(\"Sales of product types\", fontsize = 25)\n",
        "ax.set_xlabel(\"Sales\", fontsize = 16)\n",
        "ax.set_ylabel(\"Product line\", fontsize = 16)"
      ],
      "execution_count": null,
      "outputs": [
        {
          "output_type": "execute_result",
          "data": {
            "text/plain": [
              "Text(0, 0.5, 'Product line')"
            ]
          },
          "metadata": {
            "tags": []
          },
          "execution_count": 62
        },
        {
          "output_type": "display_data",
          "data": {
            "image/png": "[encoded data removed]",
            "text/plain": [
              "<Figure size 1008x432 with 1 Axes>"
            ]
          },
          "metadata": {
            "tags": [],
            "needs_background": "light"
          }
        }
      ]
    },
    {
      "cell_type": "markdown",
      "metadata": {
        "id": "-bnrSbNe3dPt"
      },
      "source": [
        "Here we can see that the average sales of different lines of products. Health and beauty making the highest sales whereas Fashion accessories making the lowest sales. That being said, we can observe that food and beverages is the second lowest in the chart above"
      ]
    },
    {
      "cell_type": "code",
      "metadata": {
        "id": "Lic88Djnpgnu",
        "outputId": "c559386b-6ed2-45a4-9c6c-3c52a9db585c",
        "colab": {
          "base_uri": "https://localhost:8080/",
          "height": 297
        }
      },
      "source": [
        "pivot=supermarket_sales.pivot_table( 'Total', ['Product line'],aggfunc=[np.sum])\n",
        "pivot"
      ],
      "execution_count": null,
      "outputs": [
        {
          "output_type": "execute_result",
          "data": {
            "text/html": [
              "<div>\n",
              "<style scoped>\n",
              "    .dataframe tbody tr th:only-of-type {\n",
              "        vertical-align: middle;\n",
              "    }\n",
              "\n",
              "    .dataframe tbody tr th {\n",
              "        vertical-align: top;\n",
              "    }\n",
              "\n",
              "    .dataframe thead tr th {\n",
              "        text-align: left;\n",
              "    }\n",
              "\n",
              "    .dataframe thead tr:last-of-type th {\n",
              "        text-align: right;\n",
              "    }\n",
              "</style>\n",
              "<table border=\"1\" class=\"dataframe\">\n",
              "  <thead>\n",
              "    <tr>\n",
              "      <th></th>\n",
              "      <th>sum</th>\n",
              "    </tr>\n",
              "    <tr>\n",
              "      <th></th>\n",
              "      <th>Total</th>\n",
              "    </tr>\n",
              "    <tr>\n",
              "      <th>Product line</th>\n",
              "      <th></th>\n",
              "    </tr>\n",
              "  </thead>\n",
              "  <tbody>\n",
              "    <tr>\n",
              "      <th>Electronic accessories</th>\n",
              "      <td>54337.5315</td>\n",
              "    </tr>\n",
              "    <tr>\n",
              "      <th>Fashion accessories</th>\n",
              "      <td>54305.8950</td>\n",
              "    </tr>\n",
              "    <tr>\n",
              "      <th>Food and beverages</th>\n",
              "      <td>56144.8440</td>\n",
              "    </tr>\n",
              "    <tr>\n",
              "      <th>Health and beauty</th>\n",
              "      <td>49193.7390</td>\n",
              "    </tr>\n",
              "    <tr>\n",
              "      <th>Home and lifestyle</th>\n",
              "      <td>53861.9130</td>\n",
              "    </tr>\n",
              "    <tr>\n",
              "      <th>Sports and travel</th>\n",
              "      <td>55122.8265</td>\n",
              "    </tr>\n",
              "  </tbody>\n",
              "</table>\n",
              "</div>"
            ],
            "text/plain": [
              "                               sum\n",
              "                             Total\n",
              "Product line                      \n",
              "Electronic accessories  54337.5315\n",
              "Fashion accessories     54305.8950\n",
              "Food and beverages      56144.8440\n",
              "Health and beauty       49193.7390\n",
              "Home and lifestyle      53861.9130\n",
              "Sports and travel       55122.8265"
            ]
          },
          "metadata": {
            "tags": []
          },
          "execution_count": 63
        }
      ]
    },
    {
      "cell_type": "code",
      "metadata": {
        "id": "7a3BFc4950na",
        "outputId": "75ffab1a-83bd-432d-9eea-ba3064e450c2",
        "colab": {
          "base_uri": "https://localhost:8080/",
          "height": 248
        }
      },
      "source": [
        "flattened = pd.DataFrame(pivot.to_records())\n",
        "flattened\n",
        "colors = ['c', 'g', 'y','r','b','m']\n",
        "\n",
        "plt.pie(flattened[\"('sum', 'Total')\"], labels=flattened['Product line'], colors=colors,\n",
        "        startangle=90,\n",
        "        autopct = '%1.2f%%')\n",
        "\n",
        "plt.axis('equal') # Try commenting this out.\n",
        "# plt.title('Pie Chart Example')\n",
        "plt.show()"
      ],
      "execution_count": null,
      "outputs": [
        {
          "output_type": "display_data",
          "data": {
            "image/png": "[encoded data removed]",
            "text/plain": [
              "<Figure size 432x288 with 1 Axes>"
            ]
          },
          "metadata": {
            "tags": []
          }
        }
      ]
    },
    {
      "cell_type": "code",
      "metadata": {
        "id": "rBcQbV47kMX3",
        "outputId": "2e129f52-63c9-484a-a1c9-7a338964064f",
        "colab": {
          "base_uri": "https://localhost:8080/",
          "height": 235
        }
      },
      "source": [
        "flattened.rename(columns = {\"('sum', 'Total')\":'Total sum'}, inplace = True) \n",
        "flattened"
      ],
      "execution_count": null,
      "outputs": [
        {
          "output_type": "execute_result",
          "data": {
            "text/html": [
              "<div>\n",
              "<style scoped>\n",
              "    .dataframe tbody tr th:only-of-type {\n",
              "        vertical-align: middle;\n",
              "    }\n",
              "\n",
              "    .dataframe tbody tr th {\n",
              "        vertical-align: top;\n",
              "    }\n",
              "\n",
              "    .dataframe thead th {\n",
              "        text-align: right;\n",
              "    }\n",
              "</style>\n",
              "<table border=\"1\" class=\"dataframe\">\n",
              "  <thead>\n",
              "    <tr style=\"text-align: right;\">\n",
              "      <th></th>\n",
              "      <th>Product line</th>\n",
              "      <th>Total sum</th>\n",
              "    </tr>\n",
              "  </thead>\n",
              "  <tbody>\n",
              "    <tr>\n",
              "      <th>0</th>\n",
              "      <td>Electronic accessories</td>\n",
              "      <td>54337.5315</td>\n",
              "    </tr>\n",
              "    <tr>\n",
              "      <th>1</th>\n",
              "      <td>Fashion accessories</td>\n",
              "      <td>54305.8950</td>\n",
              "    </tr>\n",
              "    <tr>\n",
              "      <th>2</th>\n",
              "      <td>Food and beverages</td>\n",
              "      <td>56144.8440</td>\n",
              "    </tr>\n",
              "    <tr>\n",
              "      <th>3</th>\n",
              "      <td>Health and beauty</td>\n",
              "      <td>49193.7390</td>\n",
              "    </tr>\n",
              "    <tr>\n",
              "      <th>4</th>\n",
              "      <td>Home and lifestyle</td>\n",
              "      <td>53861.9130</td>\n",
              "    </tr>\n",
              "    <tr>\n",
              "      <th>5</th>\n",
              "      <td>Sports and travel</td>\n",
              "      <td>55122.8265</td>\n",
              "    </tr>\n",
              "  </tbody>\n",
              "</table>\n",
              "</div>"
            ],
            "text/plain": [
              "             Product line   Total sum\n",
              "0  Electronic accessories  54337.5315\n",
              "1     Fashion accessories  54305.8950\n",
              "2      Food and beverages  56144.8440\n",
              "3       Health and beauty  49193.7390\n",
              "4      Home and lifestyle  53861.9130\n",
              "5       Sports and travel  55122.8265"
            ]
          },
          "metadata": {
            "tags": []
          },
          "execution_count": 65
        }
      ]
    },
    {
      "cell_type": "code",
      "metadata": {
        "id": "Vrb-L2HVNnOo",
        "outputId": "d164b459-e03d-4c18-9a36-95835e967ddc",
        "colab": {
          "base_uri": "https://localhost:8080/",
          "height": 396
        }
      },
      "source": [
        "plt.plot(flattened['Product line'], flattened['Total sum'], label=\"line L\")\n",
        "plt.plot()\n",
        "\n",
        "plt.xlabel(\"x axis\")\n",
        "plt.ylabel(\"y axis\")\n",
        "plt.title(\"Total sell of each product\")\n",
        "plt.xticks(rotation = 'vertical')\n",
        "plt.legend()\n",
        "plt.show()"
      ],
      "execution_count": null,
      "outputs": [
        {
          "output_type": "display_data",
          "data": {
            "image/png": "[encoded data removed]",
            "text/plain": [
              "<Figure size 432x288 with 1 Axes>"
            ]
          },
          "metadata": {
            "tags": [],
            "needs_background": "light"
          }
        }
      ]
    },
    {
      "cell_type": "markdown",
      "metadata": {
        "id": "Sl3a3SdFYOmT"
      },
      "source": [
        "Summing up the totals for each month"
      ]
    },
    {
      "cell_type": "code",
      "metadata": {
        "id": "4jv-UY2QBGw6"
      },
      "source": [
        "x=(supermarket_sales.assign(Date=supermarket_sales.Date.dt.strftime('%m/%Y'))\n",
        "    .groupby(['Product line','Date'])\n",
        "    .sum()\n",
        "    .reset_index()\n",
        ")"
      ],
      "execution_count": null,
      "outputs": []
    },
    {
      "cell_type": "code",
      "metadata": {
        "id": "YVp7kBAu1OrT",
        "outputId": "4979268d-73a8-4f12-9982-ba65a7ae0f1c",
        "colab": {
          "base_uri": "https://localhost:8080/",
          "height": 210
        }
      },
      "source": [
        "health_beauty=x.loc[x['Product line'].isin(['Health and beauty'])]\n",
        "home=x.loc[x['Product line'].isin(['Home and lifestyle'])]\n",
        "food=x.loc[x['Product line'].isin(['Food and beverages'])]\n",
        "electronic=x.loc[x['Product line'].isin(['Electronic accessories'])]\n",
        "food "
      ],
      "execution_count": null,
      "outputs": [
        {
          "output_type": "execute_result",
          "data": {
            "text/html": [
              "<div>\n",
              "<style scoped>\n",
              "    .dataframe tbody tr th:only-of-type {\n",
              "        vertical-align: middle;\n",
              "    }\n",
              "\n",
              "    .dataframe tbody tr th {\n",
              "        vertical-align: top;\n",
              "    }\n",
              "\n",
              "    .dataframe thead th {\n",
              "        text-align: right;\n",
              "    }\n",
              "</style>\n",
              "<table border=\"1\" class=\"dataframe\">\n",
              "  <thead>\n",
              "    <tr style=\"text-align: right;\">\n",
              "      <th></th>\n",
              "      <th>Product line</th>\n",
              "      <th>Date</th>\n",
              "      <th>Unit price</th>\n",
              "      <th>Quantity</th>\n",
              "      <th>Tax 5%</th>\n",
              "      <th>Total</th>\n",
              "      <th>cogs</th>\n",
              "      <th>gross margin percentage</th>\n",
              "      <th>gross income</th>\n",
              "      <th>Rating</th>\n",
              "    </tr>\n",
              "  </thead>\n",
              "  <tbody>\n",
              "    <tr>\n",
              "      <th>6</th>\n",
              "      <td>Food and beverages</td>\n",
              "      <td>01/2019</td>\n",
              "      <td>3237.38</td>\n",
              "      <td>325</td>\n",
              "      <td>931.930</td>\n",
              "      <td>19570.530</td>\n",
              "      <td>18638.60</td>\n",
              "      <td>266.666667</td>\n",
              "      <td>931.930</td>\n",
              "      <td>414.7</td>\n",
              "    </tr>\n",
              "    <tr>\n",
              "      <th>7</th>\n",
              "      <td>Food and beverages</td>\n",
              "      <td>02/2019</td>\n",
              "      <td>3367.99</td>\n",
              "      <td>349</td>\n",
              "      <td>952.398</td>\n",
              "      <td>20000.358</td>\n",
              "      <td>19047.96</td>\n",
              "      <td>295.238095</td>\n",
              "      <td>952.398</td>\n",
              "      <td>434.8</td>\n",
              "    </tr>\n",
              "    <tr>\n",
              "      <th>8</th>\n",
              "      <td>Food and beverages</td>\n",
              "      <td>03/2019</td>\n",
              "      <td>3140.17</td>\n",
              "      <td>278</td>\n",
              "      <td>789.236</td>\n",
              "      <td>16573.956</td>\n",
              "      <td>15784.72</td>\n",
              "      <td>266.666667</td>\n",
              "      <td>789.236</td>\n",
              "      <td>388.2</td>\n",
              "    </tr>\n",
              "  </tbody>\n",
              "</table>\n",
              "</div>"
            ],
            "text/plain": [
              "         Product line     Date  ...  gross income  Rating\n",
              "6  Food and beverages  01/2019  ...       931.930   414.7\n",
              "7  Food and beverages  02/2019  ...       952.398   434.8\n",
              "8  Food and beverages  03/2019  ...       789.236   388.2\n",
              "\n",
              "[3 rows x 10 columns]"
            ]
          },
          "metadata": {
            "tags": []
          },
          "execution_count": 68
        }
      ]
    },
    {
      "cell_type": "code",
      "metadata": {
        "id": "rUT0oDrygROT",
        "outputId": "1b720e8e-02ef-4f7c-837d-a45a55cc9a0b",
        "colab": {
          "base_uri": "https://localhost:8080/",
          "height": 296
        }
      },
      "source": [
        "food.pivot_table( 'Total', ['Date'], 'Product line').dropna().plot()"
      ],
      "execution_count": null,
      "outputs": [
        {
          "output_type": "execute_result",
          "data": {
            "text/plain": [
              "<matplotlib.axes._subplots.AxesSubplot at 0x7f165b565be0>"
            ]
          },
          "metadata": {
            "tags": []
          },
          "execution_count": 69
        },
        {
          "output_type": "display_data",
          "data": {
            "image/png": "[encoded data removed]",
            "text/plain": [
              "<Figure size 432x288 with 1 Axes>"
            ]
          },
          "metadata": {
            "tags": [],
            "needs_background": "light"
          }
        }
      ]
    },
    {
      "cell_type": "markdown",
      "metadata": {
        "id": "7qEyUyDYXyu6"
      },
      "source": [
        "We can observe the above plot is not profecient with our evaluation since it contains data of just the first three months of 2019. This can be limiting be plotting a time series chart."
      ]
    },
    {
      "cell_type": "markdown",
      "metadata": {
        "id": "leB6ZBBU6cXu"
      },
      "source": [
        "## **Market After COVID19**\n",
        "---\n",
        "\n",
        "\n"
      ]
    },
    {
      "cell_type": "markdown",
      "metadata": {
        "id": "2wNX4FcnYkM8"
      },
      "source": [
        "### *Data:  NAFDAQ Stocks*"
      ]
    },
    {
      "cell_type": "markdown",
      "metadata": {
        "id": "6vulWofIZGIv"
      },
      "source": [
        "## Cleaning"
      ]
    },
    {
      "cell_type": "code",
      "metadata": {
        "id": "Q_gd4V0u2HSg",
        "outputId": "926ba984-f056-4f83-89ef-3e8323393024",
        "colab": {
          "base_uri": "https://localhost:8080/",
          "height": 204
        }
      },
      "source": [
        "stock.head()"
      ],
      "execution_count": null,
      "outputs": [
        {
          "output_type": "execute_result",
          "data": {
            "text/html": [
              "<div>\n",
              "<style scoped>\n",
              "    .dataframe tbody tr th:only-of-type {\n",
              "        vertical-align: middle;\n",
              "    }\n",
              "\n",
              "    .dataframe tbody tr th {\n",
              "        vertical-align: top;\n",
              "    }\n",
              "\n",
              "    .dataframe thead th {\n",
              "        text-align: right;\n",
              "    }\n",
              "</style>\n",
              "<table border=\"1\" class=\"dataframe\">\n",
              "  <thead>\n",
              "    <tr style=\"text-align: right;\">\n",
              "      <th></th>\n",
              "      <th>Date</th>\n",
              "      <th>Open</th>\n",
              "      <th>High</th>\n",
              "      <th>Low</th>\n",
              "      <th>Close</th>\n",
              "      <th>Adj Close</th>\n",
              "      <th>Volume</th>\n",
              "    </tr>\n",
              "  </thead>\n",
              "  <tbody>\n",
              "    <tr>\n",
              "      <th>0</th>\n",
              "      <td>2017-01-25</td>\n",
              "      <td>5635.859863</td>\n",
              "      <td>5658.589844</td>\n",
              "      <td>5634.330078</td>\n",
              "      <td>5656.339844</td>\n",
              "      <td>5656.339844</td>\n",
              "      <td>1959950000</td>\n",
              "    </tr>\n",
              "    <tr>\n",
              "      <th>1</th>\n",
              "      <td>2017-01-26</td>\n",
              "      <td>5666.279785</td>\n",
              "      <td>5669.609863</td>\n",
              "      <td>5647.649902</td>\n",
              "      <td>5655.180176</td>\n",
              "      <td>5655.180176</td>\n",
              "      <td>1827490000</td>\n",
              "    </tr>\n",
              "    <tr>\n",
              "      <th>2</th>\n",
              "      <td>2017-01-27</td>\n",
              "      <td>5664.879883</td>\n",
              "      <td>5667.450195</td>\n",
              "      <td>5643.899902</td>\n",
              "      <td>5660.779785</td>\n",
              "      <td>5660.779785</td>\n",
              "      <td>1663400000</td>\n",
              "    </tr>\n",
              "    <tr>\n",
              "      <th>3</th>\n",
              "      <td>2017-01-30</td>\n",
              "      <td>5635.859863</td>\n",
              "      <td>5636.089844</td>\n",
              "      <td>5578.759766</td>\n",
              "      <td>5613.709961</td>\n",
              "      <td>5613.709961</td>\n",
              "      <td>1777090000</td>\n",
              "    </tr>\n",
              "    <tr>\n",
              "      <th>4</th>\n",
              "      <td>2017-01-31</td>\n",
              "      <td>5592.870117</td>\n",
              "      <td>5615.149902</td>\n",
              "      <td>5576.089844</td>\n",
              "      <td>5614.790039</td>\n",
              "      <td>5614.790039</td>\n",
              "      <td>2041480000</td>\n",
              "    </tr>\n",
              "  </tbody>\n",
              "</table>\n",
              "</div>"
            ],
            "text/plain": [
              "         Date         Open         High  ...        Close    Adj Close      Volume\n",
              "0  2017-01-25  5635.859863  5658.589844  ...  5656.339844  5656.339844  1959950000\n",
              "1  2017-01-26  5666.279785  5669.609863  ...  5655.180176  5655.180176  1827490000\n",
              "2  2017-01-27  5664.879883  5667.450195  ...  5660.779785  5660.779785  1663400000\n",
              "3  2017-01-30  5635.859863  5636.089844  ...  5613.709961  5613.709961  1777090000\n",
              "4  2017-01-31  5592.870117  5615.149902  ...  5614.790039  5614.790039  2041480000\n",
              "\n",
              "[5 rows x 7 columns]"
            ]
          },
          "metadata": {
            "tags": []
          },
          "execution_count": 70
        }
      ]
    },
    {
      "cell_type": "code",
      "metadata": {
        "id": "ZACx6tkhZJuc",
        "outputId": "a077f126-c93d-4219-ce47-e4c6349d5d91",
        "colab": {
          "base_uri": "https://localhost:8080/",
          "height": 255
        }
      },
      "source": [
        "stock.info()"
      ],
      "execution_count": null,
      "outputs": [
        {
          "output_type": "stream",
          "text": [
            "<class 'pandas.core.frame.DataFrame'>\n",
            "RangeIndex: 902 entries, 0 to 901\n",
            "Data columns (total 7 columns):\n",
            " #   Column     Non-Null Count  Dtype  \n",
            "---  ------     --------------  -----  \n",
            " 0   Date       902 non-null    object \n",
            " 1   Open       902 non-null    float64\n",
            " 2   High       902 non-null    float64\n",
            " 3   Low        902 non-null    float64\n",
            " 4   Close      902 non-null    float64\n",
            " 5   Adj Close  902 non-null    float64\n",
            " 6   Volume     902 non-null    int64  \n",
            "dtypes: float64(5), int64(1), object(1)\n",
            "memory usage: 49.5+ KB\n"
          ],
          "name": "stdout"
        }
      ]
    },
    {
      "cell_type": "code",
      "metadata": {
        "id": "HzqFDcb4Z8wo",
        "outputId": "33f5bd25-71db-420e-dd82-d4246f37eae9",
        "colab": {
          "base_uri": "https://localhost:8080/",
          "height": 297
        }
      },
      "source": [
        "stock.describe()"
      ],
      "execution_count": null,
      "outputs": [
        {
          "output_type": "execute_result",
          "data": {
            "text/html": [
              "<div>\n",
              "<style scoped>\n",
              "    .dataframe tbody tr th:only-of-type {\n",
              "        vertical-align: middle;\n",
              "    }\n",
              "\n",
              "    .dataframe tbody tr th {\n",
              "        vertical-align: top;\n",
              "    }\n",
              "\n",
              "    .dataframe thead th {\n",
              "        text-align: right;\n",
              "    }\n",
              "</style>\n",
              "<table border=\"1\" class=\"dataframe\">\n",
              "  <thead>\n",
              "    <tr style=\"text-align: right;\">\n",
              "      <th></th>\n",
              "      <th>Open</th>\n",
              "      <th>High</th>\n",
              "      <th>Low</th>\n",
              "      <th>Close</th>\n",
              "      <th>Adj Close</th>\n",
              "      <th>Volume</th>\n",
              "    </tr>\n",
              "  </thead>\n",
              "  <tbody>\n",
              "    <tr>\n",
              "      <th>count</th>\n",
              "      <td>902.000000</td>\n",
              "      <td>902.000000</td>\n",
              "      <td>902.000000</td>\n",
              "      <td>902.000000</td>\n",
              "      <td>902.000000</td>\n",
              "      <td>9.020000e+02</td>\n",
              "    </tr>\n",
              "    <tr>\n",
              "      <th>mean</th>\n",
              "      <td>7615.608775</td>\n",
              "      <td>7662.853394</td>\n",
              "      <td>7564.854198</td>\n",
              "      <td>7618.256937</td>\n",
              "      <td>7618.256937</td>\n",
              "      <td>2.403718e+09</td>\n",
              "    </tr>\n",
              "    <tr>\n",
              "      <th>std</th>\n",
              "      <td>1176.609690</td>\n",
              "      <td>1189.248748</td>\n",
              "      <td>1163.821319</td>\n",
              "      <td>1179.035061</td>\n",
              "      <td>1179.035061</td>\n",
              "      <td>8.643129e+08</td>\n",
              "    </tr>\n",
              "    <tr>\n",
              "      <th>min</th>\n",
              "      <td>5592.870117</td>\n",
              "      <td>5615.149902</td>\n",
              "      <td>5576.089844</td>\n",
              "      <td>5613.709961</td>\n",
              "      <td>5613.709961</td>\n",
              "      <td>1.494100e+08</td>\n",
              "    </tr>\n",
              "    <tr>\n",
              "      <th>25%</th>\n",
              "      <td>6813.964966</td>\n",
              "      <td>6869.264892</td>\n",
              "      <td>6755.797363</td>\n",
              "      <td>6798.177490</td>\n",
              "      <td>6798.177490</td>\n",
              "      <td>1.902792e+09</td>\n",
              "    </tr>\n",
              "    <tr>\n",
              "      <th>50%</th>\n",
              "      <td>7541.954834</td>\n",
              "      <td>7586.040039</td>\n",
              "      <td>7482.199951</td>\n",
              "      <td>7532.269775</td>\n",
              "      <td>7532.269775</td>\n",
              "      <td>2.128045e+09</td>\n",
              "    </tr>\n",
              "    <tr>\n",
              "      <th>75%</th>\n",
              "      <td>8123.179809</td>\n",
              "      <td>8155.979858</td>\n",
              "      <td>8072.192383</td>\n",
              "      <td>8117.459961</td>\n",
              "      <td>8117.459961</td>\n",
              "      <td>2.459798e+09</td>\n",
              "    </tr>\n",
              "    <tr>\n",
              "      <th>max</th>\n",
              "      <td>11449.250000</td>\n",
              "      <td>11462.049805</td>\n",
              "      <td>11297.530273</td>\n",
              "      <td>11379.719727</td>\n",
              "      <td>11379.719727</td>\n",
              "      <td>7.279230e+09</td>\n",
              "    </tr>\n",
              "  </tbody>\n",
              "</table>\n",
              "</div>"
            ],
            "text/plain": [
              "               Open          High  ...     Adj Close        Volume\n",
              "count    902.000000    902.000000  ...    902.000000  9.020000e+02\n",
              "mean    7615.608775   7662.853394  ...   7618.256937  2.403718e+09\n",
              "std     1176.609690   1189.248748  ...   1179.035061  8.643129e+08\n",
              "min     5592.870117   5615.149902  ...   5613.709961  1.494100e+08\n",
              "25%     6813.964966   6869.264892  ...   6798.177490  1.902792e+09\n",
              "50%     7541.954834   7586.040039  ...   7532.269775  2.128045e+09\n",
              "75%     8123.179809   8155.979858  ...   8117.459961  2.459798e+09\n",
              "max    11449.250000  11462.049805  ...  11379.719727  7.279230e+09\n",
              "\n",
              "[8 rows x 6 columns]"
            ]
          },
          "metadata": {
            "tags": []
          },
          "execution_count": 72
        }
      ]
    },
    {
      "cell_type": "code",
      "metadata": {
        "id": "MGcsSiId1Dw2"
      },
      "source": [
        "stock['Date'] = pd.to_datetime(stock['Date'])"
      ],
      "execution_count": null,
      "outputs": []
    },
    {
      "cell_type": "markdown",
      "metadata": {
        "id": "DQY1V5-t47M8"
      },
      "source": [
        "## Visualizing Mean Stack Price over the year"
      ]
    },
    {
      "cell_type": "code",
      "metadata": {
        "id": "CSqU8fsR0zva",
        "outputId": "ee3dade0-3d31-4693-949a-f129e0b00dd7",
        "colab": {
          "base_uri": "https://localhost:8080/",
          "height": 344
        }
      },
      "source": [
        "mean_df = stock.groupby(['Date']).mean()\n",
        "plt.title('Mean price of the NASDAQ index')\n",
        "plt.xlabel('Date')\n",
        "plt.ylabel('Mean Price')\n",
        "plt.xticks(rotation = 'vertical')\n",
        "plt.plot(mean_df.index,mean_df['High'])"
      ],
      "execution_count": null,
      "outputs": [
        {
          "output_type": "execute_result",
          "data": {
            "text/plain": [
              "[<matplotlib.lines.Line2D at 0x7f165b4dd7f0>]"
            ]
          },
          "metadata": {
            "tags": []
          },
          "execution_count": 74
        },
        {
          "output_type": "display_data",
          "data": {
            "image/png": "[encoded data removed]",
            "text/plain": [
              "<Figure size 432x288 with 1 Axes>"
            ]
          },
          "metadata": {
            "tags": [],
            "needs_background": "light"
          }
        }
      ]
    },
    {
      "cell_type": "markdown",
      "metadata": {
        "id": "1vC54Sr73tH-"
      },
      "source": [
        "Observe that there has been an abrupt downfall in the stocks after January 2020. Let’s drill it down further to see exactly when that happened."
      ]
    },
    {
      "cell_type": "code",
      "metadata": {
        "id": "Swh0Hbfe5Nbf",
        "outputId": "4d7d67bf-bb3e-45b9-da5a-5608aaba5e11",
        "colab": {
          "base_uri": "https://localhost:8080/",
          "height": 344
        }
      },
      "source": [
        "mean_df = mean_df.loc[mean_df.index > '2020-01-01'].copy()\n",
        "plt.title('Monthly Mean price of the NASDAQ 2020')\n",
        "plt.xlabel('Date')\n",
        "plt.ylabel('Mean Price')\n",
        "plt.xticks(rotation = 'vertical')\n",
        "plt.plot(mean_df.index,mean_df['High'])"
      ],
      "execution_count": null,
      "outputs": [
        {
          "output_type": "execute_result",
          "data": {
            "text/plain": [
              "[<matplotlib.lines.Line2D at 0x7f165b522dd8>]"
            ]
          },
          "metadata": {
            "tags": []
          },
          "execution_count": 75
        },
        {
          "output_type": "display_data",
          "data": {
            "image/png": "[encoded data removed]",
            "text/plain": [
              "<Figure size 432x288 with 1 Axes>"
            ]
          },
          "metadata": {
            "tags": [],
            "needs_background": "light"
          }
        }
      ]
    },
    {
      "cell_type": "markdown",
      "metadata": {
        "id": "DC3ViLWf3zxO"
      },
      "source": [
        "Now we can see that the stocks went down in the midst of February 2020 only after Quarter past March it was able to recover itself. We already know that the first case that hit US was at January 13, 2020. \n",
        "As can be seen that the mean price of the companies listed in the NASDAQ plummet at around February 2020. It went from around 9700 to 7000 within a month, approximately 28% decrease. This could be a coincidence but there is a really high chance that it is in fact influenced by the pandemic. However, the question arises why it happened so late. We expected it should happen around January since the first case appeared at that time. The initial guess could be that people there were still careless about it.\n"
      ]
    },
    {
      "cell_type": "markdown",
      "metadata": {
        "id": "B3y3KroOk5eH"
      },
      "source": [
        "### Which industry got impacted the most?"
      ]
    },
    {
      "cell_type": "markdown",
      "metadata": {
        "id": "VYYWsH_lpCHp"
      },
      "source": [
        "## Data Cleaning and Preparation"
      ]
    },
    {
      "cell_type": "code",
      "metadata": {
        "id": "DzTEf9TAeozh",
        "outputId": "752c5789-b09f-498c-e2e6-28c7e1e3583c",
        "colab": {
          "base_uri": "https://localhost:8080/",
          "height": 170
        }
      },
      "source": [
        "pce_food.info()"
      ],
      "execution_count": null,
      "outputs": [
        {
          "output_type": "stream",
          "text": [
            "<class 'pandas.core.frame.DataFrame'>\n",
            "RangeIndex: 114 entries, 0 to 113\n",
            "Data columns (total 2 columns):\n",
            " #   Column           Non-Null Count  Dtype  \n",
            "---  ------           --------------  -----  \n",
            " 0   DATE             114 non-null    object \n",
            " 1   DFXARC1M027SBEA  114 non-null    float64\n",
            "dtypes: float64(1), object(1)\n",
            "memory usage: 1.9+ KB\n"
          ],
          "name": "stdout"
        }
      ]
    },
    {
      "cell_type": "code",
      "metadata": {
        "id": "Wbds2qXSk_ll",
        "outputId": "678c7bdd-9aa9-4933-a4d4-d30fee683bd9",
        "colab": {
          "base_uri": "https://localhost:8080/",
          "height": 419
        }
      },
      "source": [
        "pce_durable"
      ],
      "execution_count": null,
      "outputs": [
        {
          "output_type": "execute_result",
          "data": {
            "text/html": [
              "<div>\n",
              "<style scoped>\n",
              "    .dataframe tbody tr th:only-of-type {\n",
              "        vertical-align: middle;\n",
              "    }\n",
              "\n",
              "    .dataframe tbody tr th {\n",
              "        vertical-align: top;\n",
              "    }\n",
              "\n",
              "    .dataframe thead th {\n",
              "        text-align: right;\n",
              "    }\n",
              "</style>\n",
              "<table border=\"1\" class=\"dataframe\">\n",
              "  <thead>\n",
              "    <tr style=\"text-align: right;\">\n",
              "      <th></th>\n",
              "      <th>DATE</th>\n",
              "      <th>PCEDG</th>\n",
              "    </tr>\n",
              "  </thead>\n",
              "  <tbody>\n",
              "    <tr>\n",
              "      <th>0</th>\n",
              "      <td>2011-01-01</td>\n",
              "      <td>1085.0</td>\n",
              "    </tr>\n",
              "    <tr>\n",
              "      <th>1</th>\n",
              "      <td>2011-02-01</td>\n",
              "      <td>1083.8</td>\n",
              "    </tr>\n",
              "    <tr>\n",
              "      <th>2</th>\n",
              "      <td>2011-03-01</td>\n",
              "      <td>1095.0</td>\n",
              "    </tr>\n",
              "    <tr>\n",
              "      <th>3</th>\n",
              "      <td>2011-04-01</td>\n",
              "      <td>1090.9</td>\n",
              "    </tr>\n",
              "    <tr>\n",
              "      <th>4</th>\n",
              "      <td>2011-05-01</td>\n",
              "      <td>1081.2</td>\n",
              "    </tr>\n",
              "    <tr>\n",
              "      <th>...</th>\n",
              "      <td>...</td>\n",
              "      <td>...</td>\n",
              "    </tr>\n",
              "    <tr>\n",
              "      <th>109</th>\n",
              "      <td>2020-02-01</td>\n",
              "      <td>1552.5</td>\n",
              "    </tr>\n",
              "    <tr>\n",
              "      <th>110</th>\n",
              "      <td>2020-03-01</td>\n",
              "      <td>1369.0</td>\n",
              "    </tr>\n",
              "    <tr>\n",
              "      <th>111</th>\n",
              "      <td>2020-04-01</td>\n",
              "      <td>1198.6</td>\n",
              "    </tr>\n",
              "    <tr>\n",
              "      <th>112</th>\n",
              "      <td>2020-05-01</td>\n",
              "      <td>1544.6</td>\n",
              "    </tr>\n",
              "    <tr>\n",
              "      <th>113</th>\n",
              "      <td>2020-06-01</td>\n",
              "      <td>1679.5</td>\n",
              "    </tr>\n",
              "  </tbody>\n",
              "</table>\n",
              "<p>114 rows × 2 columns</p>\n",
              "</div>"
            ],
            "text/plain": [
              "           DATE   PCEDG\n",
              "0    2011-01-01  1085.0\n",
              "1    2011-02-01  1083.8\n",
              "2    2011-03-01  1095.0\n",
              "3    2011-04-01  1090.9\n",
              "4    2011-05-01  1081.2\n",
              "..          ...     ...\n",
              "109  2020-02-01  1552.5\n",
              "110  2020-03-01  1369.0\n",
              "111  2020-04-01  1198.6\n",
              "112  2020-05-01  1544.6\n",
              "113  2020-06-01  1679.5\n",
              "\n",
              "[114 rows x 2 columns]"
            ]
          },
          "metadata": {
            "tags": []
          },
          "execution_count": 77
        }
      ]
    },
    {
      "cell_type": "code",
      "metadata": {
        "id": "GeFwCscRpzUU",
        "outputId": "c2e15262-86a5-4524-fe89-92d25e21debc",
        "colab": {
          "base_uri": "https://localhost:8080/",
          "height": 419
        }
      },
      "source": [
        "pce_nondurable"
      ],
      "execution_count": null,
      "outputs": [
        {
          "output_type": "execute_result",
          "data": {
            "text/html": [
              "<div>\n",
              "<style scoped>\n",
              "    .dataframe tbody tr th:only-of-type {\n",
              "        vertical-align: middle;\n",
              "    }\n",
              "\n",
              "    .dataframe tbody tr th {\n",
              "        vertical-align: top;\n",
              "    }\n",
              "\n",
              "    .dataframe thead th {\n",
              "        text-align: right;\n",
              "    }\n",
              "</style>\n",
              "<table border=\"1\" class=\"dataframe\">\n",
              "  <thead>\n",
              "    <tr style=\"text-align: right;\">\n",
              "      <th></th>\n",
              "      <th>DATE</th>\n",
              "      <th>PCEND</th>\n",
              "    </tr>\n",
              "  </thead>\n",
              "  <tbody>\n",
              "    <tr>\n",
              "      <th>0</th>\n",
              "      <td>2011-01-01</td>\n",
              "      <td>2365.4</td>\n",
              "    </tr>\n",
              "    <tr>\n",
              "      <th>1</th>\n",
              "      <td>2011-02-01</td>\n",
              "      <td>2373.5</td>\n",
              "    </tr>\n",
              "    <tr>\n",
              "      <th>2</th>\n",
              "      <td>2011-03-01</td>\n",
              "      <td>2404.4</td>\n",
              "    </tr>\n",
              "    <tr>\n",
              "      <th>3</th>\n",
              "      <td>2011-04-01</td>\n",
              "      <td>2430.4</td>\n",
              "    </tr>\n",
              "    <tr>\n",
              "      <th>4</th>\n",
              "      <td>2011-05-01</td>\n",
              "      <td>2425.1</td>\n",
              "    </tr>\n",
              "    <tr>\n",
              "      <th>...</th>\n",
              "      <td>...</td>\n",
              "      <td>...</td>\n",
              "    </tr>\n",
              "    <tr>\n",
              "      <th>109</th>\n",
              "      <td>2020-02-01</td>\n",
              "      <td>3015.7</td>\n",
              "    </tr>\n",
              "    <tr>\n",
              "      <th>110</th>\n",
              "      <td>2020-03-01</td>\n",
              "      <td>3129.7</td>\n",
              "    </tr>\n",
              "    <tr>\n",
              "      <th>111</th>\n",
              "      <td>2020-04-01</td>\n",
              "      <td>2690.0</td>\n",
              "    </tr>\n",
              "    <tr>\n",
              "      <th>112</th>\n",
              "      <td>2020-05-01</td>\n",
              "      <td>2893.2</td>\n",
              "    </tr>\n",
              "    <tr>\n",
              "      <th>113</th>\n",
              "      <td>2020-06-01</td>\n",
              "      <td>3044.0</td>\n",
              "    </tr>\n",
              "  </tbody>\n",
              "</table>\n",
              "<p>114 rows × 2 columns</p>\n",
              "</div>"
            ],
            "text/plain": [
              "           DATE   PCEND\n",
              "0    2011-01-01  2365.4\n",
              "1    2011-02-01  2373.5\n",
              "2    2011-03-01  2404.4\n",
              "3    2011-04-01  2430.4\n",
              "4    2011-05-01  2425.1\n",
              "..          ...     ...\n",
              "109  2020-02-01  3015.7\n",
              "110  2020-03-01  3129.7\n",
              "111  2020-04-01  2690.0\n",
              "112  2020-05-01  2893.2\n",
              "113  2020-06-01  3044.0\n",
              "\n",
              "[114 rows x 2 columns]"
            ]
          },
          "metadata": {
            "tags": []
          },
          "execution_count": 78
        }
      ]
    },
    {
      "cell_type": "code",
      "metadata": {
        "id": "awA2mJq9p07X",
        "outputId": "0145e2fb-9a6b-4d51-92bf-26d5edaa2f9b",
        "colab": {
          "base_uri": "https://localhost:8080/",
          "height": 419
        }
      },
      "source": [
        "pce_food"
      ],
      "execution_count": null,
      "outputs": [
        {
          "output_type": "execute_result",
          "data": {
            "text/html": [
              "<div>\n",
              "<style scoped>\n",
              "    .dataframe tbody tr th:only-of-type {\n",
              "        vertical-align: middle;\n",
              "    }\n",
              "\n",
              "    .dataframe tbody tr th {\n",
              "        vertical-align: top;\n",
              "    }\n",
              "\n",
              "    .dataframe thead th {\n",
              "        text-align: right;\n",
              "    }\n",
              "</style>\n",
              "<table border=\"1\" class=\"dataframe\">\n",
              "  <thead>\n",
              "    <tr style=\"text-align: right;\">\n",
              "      <th></th>\n",
              "      <th>DATE</th>\n",
              "      <th>DFXARC1M027SBEA</th>\n",
              "    </tr>\n",
              "  </thead>\n",
              "  <tbody>\n",
              "    <tr>\n",
              "      <th>0</th>\n",
              "      <td>2011-01-01</td>\n",
              "      <td>803.3</td>\n",
              "    </tr>\n",
              "    <tr>\n",
              "      <th>1</th>\n",
              "      <td>2011-02-01</td>\n",
              "      <td>807.9</td>\n",
              "    </tr>\n",
              "    <tr>\n",
              "      <th>2</th>\n",
              "      <td>2011-03-01</td>\n",
              "      <td>809.3</td>\n",
              "    </tr>\n",
              "    <tr>\n",
              "      <th>3</th>\n",
              "      <td>2011-04-01</td>\n",
              "      <td>818.6</td>\n",
              "    </tr>\n",
              "    <tr>\n",
              "      <th>4</th>\n",
              "      <td>2011-05-01</td>\n",
              "      <td>813.5</td>\n",
              "    </tr>\n",
              "    <tr>\n",
              "      <th>...</th>\n",
              "      <td>...</td>\n",
              "      <td>...</td>\n",
              "    </tr>\n",
              "    <tr>\n",
              "      <th>109</th>\n",
              "      <td>2020-02-01</td>\n",
              "      <td>1033.3</td>\n",
              "    </tr>\n",
              "    <tr>\n",
              "      <th>110</th>\n",
              "      <td>2020-03-01</td>\n",
              "      <td>1272.7</td>\n",
              "    </tr>\n",
              "    <tr>\n",
              "      <th>111</th>\n",
              "      <td>2020-04-01</td>\n",
              "      <td>1115.6</td>\n",
              "    </tr>\n",
              "    <tr>\n",
              "      <th>112</th>\n",
              "      <td>2020-05-01</td>\n",
              "      <td>1146.8</td>\n",
              "    </tr>\n",
              "    <tr>\n",
              "      <th>113</th>\n",
              "      <td>2020-06-01</td>\n",
              "      <td>1141.2</td>\n",
              "    </tr>\n",
              "  </tbody>\n",
              "</table>\n",
              "<p>114 rows × 2 columns</p>\n",
              "</div>"
            ],
            "text/plain": [
              "           DATE  DFXARC1M027SBEA\n",
              "0    2011-01-01            803.3\n",
              "1    2011-02-01            807.9\n",
              "2    2011-03-01            809.3\n",
              "3    2011-04-01            818.6\n",
              "4    2011-05-01            813.5\n",
              "..          ...              ...\n",
              "109  2020-02-01           1033.3\n",
              "110  2020-03-01           1272.7\n",
              "111  2020-04-01           1115.6\n",
              "112  2020-05-01           1146.8\n",
              "113  2020-06-01           1141.2\n",
              "\n",
              "[114 rows x 2 columns]"
            ]
          },
          "metadata": {
            "tags": []
          },
          "execution_count": 79
        }
      ]
    },
    {
      "cell_type": "code",
      "metadata": {
        "id": "uB2sqtP_p2tG",
        "outputId": "c610d5d8-2573-4d2a-a29f-9d975fabc95f",
        "colab": {
          "base_uri": "https://localhost:8080/",
          "height": 419
        }
      },
      "source": [
        "pce_services"
      ],
      "execution_count": null,
      "outputs": [
        {
          "output_type": "execute_result",
          "data": {
            "text/html": [
              "<div>\n",
              "<style scoped>\n",
              "    .dataframe tbody tr th:only-of-type {\n",
              "        vertical-align: middle;\n",
              "    }\n",
              "\n",
              "    .dataframe tbody tr th {\n",
              "        vertical-align: top;\n",
              "    }\n",
              "\n",
              "    .dataframe thead th {\n",
              "        text-align: right;\n",
              "    }\n",
              "</style>\n",
              "<table border=\"1\" class=\"dataframe\">\n",
              "  <thead>\n",
              "    <tr style=\"text-align: right;\">\n",
              "      <th></th>\n",
              "      <th>DATE</th>\n",
              "      <th>PCES</th>\n",
              "    </tr>\n",
              "  </thead>\n",
              "  <tbody>\n",
              "    <tr>\n",
              "      <th>0</th>\n",
              "      <td>2011-01-01</td>\n",
              "      <td>6985.1</td>\n",
              "    </tr>\n",
              "    <tr>\n",
              "      <th>1</th>\n",
              "      <td>2011-02-01</td>\n",
              "      <td>7012.9</td>\n",
              "    </tr>\n",
              "    <tr>\n",
              "      <th>2</th>\n",
              "      <td>2011-03-01</td>\n",
              "      <td>7051.0</td>\n",
              "    </tr>\n",
              "    <tr>\n",
              "      <th>3</th>\n",
              "      <td>2011-04-01</td>\n",
              "      <td>7066.3</td>\n",
              "    </tr>\n",
              "    <tr>\n",
              "      <th>4</th>\n",
              "      <td>2011-05-01</td>\n",
              "      <td>7105.7</td>\n",
              "    </tr>\n",
              "    <tr>\n",
              "      <th>...</th>\n",
              "      <td>...</td>\n",
              "      <td>...</td>\n",
              "    </tr>\n",
              "    <tr>\n",
              "      <th>109</th>\n",
              "      <td>2020-02-01</td>\n",
              "      <td>10309.2</td>\n",
              "    </tr>\n",
              "    <tr>\n",
              "      <th>110</th>\n",
              "      <td>2020-03-01</td>\n",
              "      <td>9379.8</td>\n",
              "    </tr>\n",
              "    <tr>\n",
              "      <th>111</th>\n",
              "      <td>2020-04-01</td>\n",
              "      <td>8200.2</td>\n",
              "    </tr>\n",
              "    <tr>\n",
              "      <th>112</th>\n",
              "      <td>2020-05-01</td>\n",
              "      <td>8675.7</td>\n",
              "    </tr>\n",
              "    <tr>\n",
              "      <th>113</th>\n",
              "      <td>2020-06-01</td>\n",
              "      <td>9127.6</td>\n",
              "    </tr>\n",
              "  </tbody>\n",
              "</table>\n",
              "<p>114 rows × 2 columns</p>\n",
              "</div>"
            ],
            "text/plain": [
              "           DATE     PCES\n",
              "0    2011-01-01   6985.1\n",
              "1    2011-02-01   7012.9\n",
              "2    2011-03-01   7051.0\n",
              "3    2011-04-01   7066.3\n",
              "4    2011-05-01   7105.7\n",
              "..          ...      ...\n",
              "109  2020-02-01  10309.2\n",
              "110  2020-03-01   9379.8\n",
              "111  2020-04-01   8200.2\n",
              "112  2020-05-01   8675.7\n",
              "113  2020-06-01   9127.6\n",
              "\n",
              "[114 rows x 2 columns]"
            ]
          },
          "metadata": {
            "tags": []
          },
          "execution_count": 80
        }
      ]
    },
    {
      "cell_type": "code",
      "metadata": {
        "id": "1ta-BYzep4_o",
        "outputId": "80d94f7f-97b6-4738-f1ae-e9ab83572e57",
        "colab": {
          "base_uri": "https://localhost:8080/",
          "height": 1000
        }
      },
      "source": [
        "pce_medicaid"
      ],
      "execution_count": null,
      "outputs": [
        {
          "output_type": "execute_result",
          "data": {
            "text/html": [
              "<div>\n",
              "<style scoped>\n",
              "    .dataframe tbody tr th:only-of-type {\n",
              "        vertical-align: middle;\n",
              "    }\n",
              "\n",
              "    .dataframe tbody tr th {\n",
              "        vertical-align: top;\n",
              "    }\n",
              "\n",
              "    .dataframe thead th {\n",
              "        text-align: right;\n",
              "    }\n",
              "</style>\n",
              "<table border=\"1\" class=\"dataframe\">\n",
              "  <thead>\n",
              "    <tr style=\"text-align: right;\">\n",
              "      <th></th>\n",
              "      <th>DATE</th>\n",
              "      <th>W729RC1</th>\n",
              "    </tr>\n",
              "  </thead>\n",
              "  <tbody>\n",
              "    <tr>\n",
              "      <th>0</th>\n",
              "      <td>2016-01-01</td>\n",
              "      <td>547.6</td>\n",
              "    </tr>\n",
              "    <tr>\n",
              "      <th>1</th>\n",
              "      <td>2016-02-01</td>\n",
              "      <td>550.5</td>\n",
              "    </tr>\n",
              "    <tr>\n",
              "      <th>2</th>\n",
              "      <td>2016-03-01</td>\n",
              "      <td>553.2</td>\n",
              "    </tr>\n",
              "    <tr>\n",
              "      <th>3</th>\n",
              "      <td>2016-04-01</td>\n",
              "      <td>555.6</td>\n",
              "    </tr>\n",
              "    <tr>\n",
              "      <th>4</th>\n",
              "      <td>2016-05-01</td>\n",
              "      <td>559.2</td>\n",
              "    </tr>\n",
              "    <tr>\n",
              "      <th>5</th>\n",
              "      <td>2016-06-01</td>\n",
              "      <td>561.5</td>\n",
              "    </tr>\n",
              "    <tr>\n",
              "      <th>6</th>\n",
              "      <td>2016-07-01</td>\n",
              "      <td>563.5</td>\n",
              "    </tr>\n",
              "    <tr>\n",
              "      <th>7</th>\n",
              "      <td>2016-08-01</td>\n",
              "      <td>566.2</td>\n",
              "    </tr>\n",
              "    <tr>\n",
              "      <th>8</th>\n",
              "      <td>2016-09-01</td>\n",
              "      <td>569.6</td>\n",
              "    </tr>\n",
              "    <tr>\n",
              "      <th>9</th>\n",
              "      <td>2016-10-01</td>\n",
              "      <td>574.0</td>\n",
              "    </tr>\n",
              "    <tr>\n",
              "      <th>10</th>\n",
              "      <td>2016-11-01</td>\n",
              "      <td>575.9</td>\n",
              "    </tr>\n",
              "    <tr>\n",
              "      <th>11</th>\n",
              "      <td>2016-12-01</td>\n",
              "      <td>575.8</td>\n",
              "    </tr>\n",
              "    <tr>\n",
              "      <th>12</th>\n",
              "      <td>2017-01-01</td>\n",
              "      <td>575.0</td>\n",
              "    </tr>\n",
              "    <tr>\n",
              "      <th>13</th>\n",
              "      <td>2017-02-01</td>\n",
              "      <td>572.5</td>\n",
              "    </tr>\n",
              "    <tr>\n",
              "      <th>14</th>\n",
              "      <td>2017-03-01</td>\n",
              "      <td>569.7</td>\n",
              "    </tr>\n",
              "    <tr>\n",
              "      <th>15</th>\n",
              "      <td>2017-04-01</td>\n",
              "      <td>566.6</td>\n",
              "    </tr>\n",
              "    <tr>\n",
              "      <th>16</th>\n",
              "      <td>2017-05-01</td>\n",
              "      <td>566.8</td>\n",
              "    </tr>\n",
              "    <tr>\n",
              "      <th>17</th>\n",
              "      <td>2017-06-01</td>\n",
              "      <td>570.3</td>\n",
              "    </tr>\n",
              "    <tr>\n",
              "      <th>18</th>\n",
              "      <td>2017-07-01</td>\n",
              "      <td>576.8</td>\n",
              "    </tr>\n",
              "    <tr>\n",
              "      <th>19</th>\n",
              "      <td>2017-08-01</td>\n",
              "      <td>579.9</td>\n",
              "    </tr>\n",
              "    <tr>\n",
              "      <th>20</th>\n",
              "      <td>2017-09-01</td>\n",
              "      <td>579.8</td>\n",
              "    </tr>\n",
              "    <tr>\n",
              "      <th>21</th>\n",
              "      <td>2017-10-01</td>\n",
              "      <td>576.6</td>\n",
              "    </tr>\n",
              "    <tr>\n",
              "      <th>22</th>\n",
              "      <td>2017-11-01</td>\n",
              "      <td>575.0</td>\n",
              "    </tr>\n",
              "    <tr>\n",
              "      <th>23</th>\n",
              "      <td>2017-12-01</td>\n",
              "      <td>575.8</td>\n",
              "    </tr>\n",
              "    <tr>\n",
              "      <th>24</th>\n",
              "      <td>2018-01-01</td>\n",
              "      <td>578.4</td>\n",
              "    </tr>\n",
              "    <tr>\n",
              "      <th>25</th>\n",
              "      <td>2018-02-01</td>\n",
              "      <td>581.7</td>\n",
              "    </tr>\n",
              "    <tr>\n",
              "      <th>26</th>\n",
              "      <td>2018-03-01</td>\n",
              "      <td>585.4</td>\n",
              "    </tr>\n",
              "    <tr>\n",
              "      <th>27</th>\n",
              "      <td>2018-04-01</td>\n",
              "      <td>589.6</td>\n",
              "    </tr>\n",
              "    <tr>\n",
              "      <th>28</th>\n",
              "      <td>2018-05-01</td>\n",
              "      <td>593.1</td>\n",
              "    </tr>\n",
              "    <tr>\n",
              "      <th>29</th>\n",
              "      <td>2018-06-01</td>\n",
              "      <td>595.0</td>\n",
              "    </tr>\n",
              "    <tr>\n",
              "      <th>30</th>\n",
              "      <td>2018-07-01</td>\n",
              "      <td>596.1</td>\n",
              "    </tr>\n",
              "    <tr>\n",
              "      <th>31</th>\n",
              "      <td>2018-08-01</td>\n",
              "      <td>595.7</td>\n",
              "    </tr>\n",
              "    <tr>\n",
              "      <th>32</th>\n",
              "      <td>2018-09-01</td>\n",
              "      <td>593.6</td>\n",
              "    </tr>\n",
              "    <tr>\n",
              "      <th>33</th>\n",
              "      <td>2018-10-01</td>\n",
              "      <td>590.0</td>\n",
              "    </tr>\n",
              "    <tr>\n",
              "      <th>34</th>\n",
              "      <td>2018-11-01</td>\n",
              "      <td>589.0</td>\n",
              "    </tr>\n",
              "    <tr>\n",
              "      <th>35</th>\n",
              "      <td>2018-12-01</td>\n",
              "      <td>590.4</td>\n",
              "    </tr>\n",
              "    <tr>\n",
              "      <th>36</th>\n",
              "      <td>2019-01-01</td>\n",
              "      <td>594.5</td>\n",
              "    </tr>\n",
              "    <tr>\n",
              "      <th>37</th>\n",
              "      <td>2019-02-01</td>\n",
              "      <td>599.0</td>\n",
              "    </tr>\n",
              "    <tr>\n",
              "      <th>38</th>\n",
              "      <td>2019-03-01</td>\n",
              "      <td>604.5</td>\n",
              "    </tr>\n",
              "    <tr>\n",
              "      <th>39</th>\n",
              "      <td>2019-04-01</td>\n",
              "      <td>610.3</td>\n",
              "    </tr>\n",
              "    <tr>\n",
              "      <th>40</th>\n",
              "      <td>2019-05-01</td>\n",
              "      <td>615.2</td>\n",
              "    </tr>\n",
              "    <tr>\n",
              "      <th>41</th>\n",
              "      <td>2019-06-01</td>\n",
              "      <td>619.5</td>\n",
              "    </tr>\n",
              "    <tr>\n",
              "      <th>42</th>\n",
              "      <td>2019-07-01</td>\n",
              "      <td>621.8</td>\n",
              "    </tr>\n",
              "    <tr>\n",
              "      <th>43</th>\n",
              "      <td>2019-08-01</td>\n",
              "      <td>622.7</td>\n",
              "    </tr>\n",
              "    <tr>\n",
              "      <th>44</th>\n",
              "      <td>2019-09-01</td>\n",
              "      <td>622.2</td>\n",
              "    </tr>\n",
              "    <tr>\n",
              "      <th>45</th>\n",
              "      <td>2019-10-01</td>\n",
              "      <td>619.8</td>\n",
              "    </tr>\n",
              "    <tr>\n",
              "      <th>46</th>\n",
              "      <td>2019-11-01</td>\n",
              "      <td>618.7</td>\n",
              "    </tr>\n",
              "    <tr>\n",
              "      <th>47</th>\n",
              "      <td>2019-12-01</td>\n",
              "      <td>619.6</td>\n",
              "    </tr>\n",
              "    <tr>\n",
              "      <th>48</th>\n",
              "      <td>2020-01-01</td>\n",
              "      <td>615.8</td>\n",
              "    </tr>\n",
              "    <tr>\n",
              "      <th>49</th>\n",
              "      <td>2020-02-01</td>\n",
              "      <td>620.8</td>\n",
              "    </tr>\n",
              "    <tr>\n",
              "      <th>50</th>\n",
              "      <td>2020-03-01</td>\n",
              "      <td>635.7</td>\n",
              "    </tr>\n",
              "    <tr>\n",
              "      <th>51</th>\n",
              "      <td>2020-04-01</td>\n",
              "      <td>660.9</td>\n",
              "    </tr>\n",
              "    <tr>\n",
              "      <th>52</th>\n",
              "      <td>2020-05-01</td>\n",
              "      <td>677.6</td>\n",
              "    </tr>\n",
              "    <tr>\n",
              "      <th>53</th>\n",
              "      <td>2020-06-01</td>\n",
              "      <td>686.1</td>\n",
              "    </tr>\n",
              "  </tbody>\n",
              "</table>\n",
              "</div>"
            ],
            "text/plain": [
              "          DATE  W729RC1\n",
              "0   2016-01-01    547.6\n",
              "1   2016-02-01    550.5\n",
              "2   2016-03-01    553.2\n",
              "3   2016-04-01    555.6\n",
              "4   2016-05-01    559.2\n",
              "5   2016-06-01    561.5\n",
              "6   2016-07-01    563.5\n",
              "7   2016-08-01    566.2\n",
              "8   2016-09-01    569.6\n",
              "9   2016-10-01    574.0\n",
              "10  2016-11-01    575.9\n",
              "11  2016-12-01    575.8\n",
              "12  2017-01-01    575.0\n",
              "13  2017-02-01    572.5\n",
              "14  2017-03-01    569.7\n",
              "15  2017-04-01    566.6\n",
              "16  2017-05-01    566.8\n",
              "17  2017-06-01    570.3\n",
              "18  2017-07-01    576.8\n",
              "19  2017-08-01    579.9\n",
              "20  2017-09-01    579.8\n",
              "21  2017-10-01    576.6\n",
              "22  2017-11-01    575.0\n",
              "23  2017-12-01    575.8\n",
              "24  2018-01-01    578.4\n",
              "25  2018-02-01    581.7\n",
              "26  2018-03-01    585.4\n",
              "27  2018-04-01    589.6\n",
              "28  2018-05-01    593.1\n",
              "29  2018-06-01    595.0\n",
              "30  2018-07-01    596.1\n",
              "31  2018-08-01    595.7\n",
              "32  2018-09-01    593.6\n",
              "33  2018-10-01    590.0\n",
              "34  2018-11-01    589.0\n",
              "35  2018-12-01    590.4\n",
              "36  2019-01-01    594.5\n",
              "37  2019-02-01    599.0\n",
              "38  2019-03-01    604.5\n",
              "39  2019-04-01    610.3\n",
              "40  2019-05-01    615.2\n",
              "41  2019-06-01    619.5\n",
              "42  2019-07-01    621.8\n",
              "43  2019-08-01    622.7\n",
              "44  2019-09-01    622.2\n",
              "45  2019-10-01    619.8\n",
              "46  2019-11-01    618.7\n",
              "47  2019-12-01    619.6\n",
              "48  2020-01-01    615.8\n",
              "49  2020-02-01    620.8\n",
              "50  2020-03-01    635.7\n",
              "51  2020-04-01    660.9\n",
              "52  2020-05-01    677.6\n",
              "53  2020-06-01    686.1"
            ]
          },
          "metadata": {
            "tags": []
          },
          "execution_count": 81
        }
      ]
    },
    {
      "cell_type": "code",
      "metadata": {
        "id": "ZkxD1IfplixI",
        "outputId": "8d7b7668-4159-449a-c599-5e8e5fff6a9b",
        "colab": {
          "base_uri": "https://localhost:8080/",
          "height": 68
        }
      },
      "source": [
        "pce_medicaid.isnull().sum()"
      ],
      "execution_count": null,
      "outputs": [
        {
          "output_type": "execute_result",
          "data": {
            "text/plain": [
              "DATE       0\n",
              "W729RC1    0\n",
              "dtype: int64"
            ]
          },
          "metadata": {
            "tags": []
          },
          "execution_count": 82
        }
      ]
    },
    {
      "cell_type": "markdown",
      "metadata": {
        "id": "CUTn8VevlDRp"
      },
      "source": [
        "*Data:  personal consumption expenditures for durable goods*"
      ]
    },
    {
      "cell_type": "code",
      "metadata": {
        "id": "kstd7iWxloNR"
      },
      "source": [
        "pce_durable['DATE'] = pd.to_datetime(pce_durable['DATE'])\n",
        "pce_durable.rename(columns = {'PCEDG':'Expenditure', 'DATE':'Date'}, inplace = True) \n",
        "new_durable = pce_durable.loc[pce_durable.Date > '2019-01-01'].copy().reset_index(drop=True)\n",
        "new_durable['Category']='Durable goods'"
      ],
      "execution_count": null,
      "outputs": []
    },
    {
      "cell_type": "markdown",
      "metadata": {
        "id": "52Mq2Hopo6Rk"
      },
      "source": [
        "*Data:  personal consumption expenditures for nondurable goods*"
      ]
    },
    {
      "cell_type": "code",
      "metadata": {
        "id": "ihPpwJBhqNBD"
      },
      "source": [
        "pce_nondurable['DATE'] = pd.to_datetime(pce_nondurable['DATE'])\n",
        "pce_nondurable.rename(columns = {'DATE':'Date','PCEND':'Expenditure'}, inplace = True) \n",
        "new_nondurable = pce_nondurable.loc[pce_nondurable.Date > '2019-01-01'].copy().reset_index(drop=True)\n",
        "new_nondurable['Category']='Non Durable goods'"
      ],
      "execution_count": null,
      "outputs": []
    },
    {
      "cell_type": "markdown",
      "metadata": {
        "id": "vPFlGvkso6lU"
      },
      "source": [
        "*Data:  personal consumption expenditures for food*"
      ]
    },
    {
      "cell_type": "code",
      "metadata": {
        "id": "ZmH8-u7Stqpi"
      },
      "source": [
        "pce_food['DATE'] = pd.to_datetime(pce_food['DATE'])\n",
        "pce_food.rename(columns = {'DATE':'Date','DFXARC1M027SBEA':'Expenditure'}, inplace = True) \n",
        "new_food = pce_food.loc[pce_food.Date > '2019-01-01'].copy().reset_index(drop=True)\n",
        "new_food['Category']='Food'"
      ],
      "execution_count": null,
      "outputs": []
    },
    {
      "cell_type": "markdown",
      "metadata": {
        "id": "qGlAUS_7o6vC"
      },
      "source": [
        "*Data:  personal consumption expenditures for services*"
      ]
    },
    {
      "cell_type": "code",
      "metadata": {
        "id": "NvqX06kjuIev"
      },
      "source": [
        "pce_services['DATE'] = pd.to_datetime(pce_services['DATE'])\n",
        "pce_services.rename(columns = {'DATE':'Date','PCES':'Expenditure'}, inplace = True) \n",
        "new_services = pce_services.loc[pce_services.Date > '2019-01-01'].copy().reset_index(drop=True)\n",
        "new_services['Category']='Services'"
      ],
      "execution_count": null,
      "outputs": []
    },
    {
      "cell_type": "markdown",
      "metadata": {
        "id": "rUKvR5ISDMKD"
      },
      "source": [
        "*Data:  personal consumption expenditures for medical*"
      ]
    },
    {
      "cell_type": "code",
      "metadata": {
        "id": "VN1AHvaFyIjh"
      },
      "source": [
        "pce_medicaid['DATE'] = pd.to_datetime(pce_medicaid['DATE'])\n",
        "pce_medicaid.rename(columns = {'DATE':'Date','W729RC1':'Expenditure'}, inplace = True) \n",
        "new_medicaid = pce_medicaid.loc[pce_medicaid.Date > '2019-01-01'].copy().reset_index(drop=True)\n",
        "new_medicaid['Category']='Medical'"
      ],
      "execution_count": null,
      "outputs": []
    },
    {
      "cell_type": "code",
      "metadata": {
        "id": "obPJXDNpnmyX",
        "outputId": "6552648a-2611-4196-e22a-036263418f45",
        "colab": {
          "base_uri": "https://localhost:8080/",
          "height": 419
        }
      },
      "source": [
        "#merging datasets\n",
        "new_medicaid.head()\n",
        "new_data = pd.concat([new_durable, new_food, new_nondurable, new_medicaid, new_services], axis=0)\n",
        "new_data.reset_index(drop=True)"
      ],
      "execution_count": null,
      "outputs": [
        {
          "output_type": "execute_result",
          "data": {
            "text/html": [
              "<div>\n",
              "<style scoped>\n",
              "    .dataframe tbody tr th:only-of-type {\n",
              "        vertical-align: middle;\n",
              "    }\n",
              "\n",
              "    .dataframe tbody tr th {\n",
              "        vertical-align: top;\n",
              "    }\n",
              "\n",
              "    .dataframe thead th {\n",
              "        text-align: right;\n",
              "    }\n",
              "</style>\n",
              "<table border=\"1\" class=\"dataframe\">\n",
              "  <thead>\n",
              "    <tr style=\"text-align: right;\">\n",
              "      <th></th>\n",
              "      <th>Date</th>\n",
              "      <th>Expenditure</th>\n",
              "      <th>Category</th>\n",
              "    </tr>\n",
              "  </thead>\n",
              "  <tbody>\n",
              "    <tr>\n",
              "      <th>0</th>\n",
              "      <td>2019-02-01</td>\n",
              "      <td>1476.9</td>\n",
              "      <td>Durable goods</td>\n",
              "    </tr>\n",
              "    <tr>\n",
              "      <th>1</th>\n",
              "      <td>2019-03-01</td>\n",
              "      <td>1517.2</td>\n",
              "      <td>Durable goods</td>\n",
              "    </tr>\n",
              "    <tr>\n",
              "      <th>2</th>\n",
              "      <td>2019-04-01</td>\n",
              "      <td>1520.5</td>\n",
              "      <td>Durable goods</td>\n",
              "    </tr>\n",
              "    <tr>\n",
              "      <th>3</th>\n",
              "      <td>2019-05-01</td>\n",
              "      <td>1539.6</td>\n",
              "      <td>Durable goods</td>\n",
              "    </tr>\n",
              "    <tr>\n",
              "      <th>4</th>\n",
              "      <td>2019-06-01</td>\n",
              "      <td>1547.8</td>\n",
              "      <td>Durable goods</td>\n",
              "    </tr>\n",
              "    <tr>\n",
              "      <th>...</th>\n",
              "      <td>...</td>\n",
              "      <td>...</td>\n",
              "      <td>...</td>\n",
              "    </tr>\n",
              "    <tr>\n",
              "      <th>80</th>\n",
              "      <td>2020-02-01</td>\n",
              "      <td>10309.2</td>\n",
              "      <td>Services</td>\n",
              "    </tr>\n",
              "    <tr>\n",
              "      <th>81</th>\n",
              "      <td>2020-03-01</td>\n",
              "      <td>9379.8</td>\n",
              "      <td>Services</td>\n",
              "    </tr>\n",
              "    <tr>\n",
              "      <th>82</th>\n",
              "      <td>2020-04-01</td>\n",
              "      <td>8200.2</td>\n",
              "      <td>Services</td>\n",
              "    </tr>\n",
              "    <tr>\n",
              "      <th>83</th>\n",
              "      <td>2020-05-01</td>\n",
              "      <td>8675.7</td>\n",
              "      <td>Services</td>\n",
              "    </tr>\n",
              "    <tr>\n",
              "      <th>84</th>\n",
              "      <td>2020-06-01</td>\n",
              "      <td>9127.6</td>\n",
              "      <td>Services</td>\n",
              "    </tr>\n",
              "  </tbody>\n",
              "</table>\n",
              "<p>85 rows × 3 columns</p>\n",
              "</div>"
            ],
            "text/plain": [
              "         Date  Expenditure       Category\n",
              "0  2019-02-01       1476.9  Durable goods\n",
              "1  2019-03-01       1517.2  Durable goods\n",
              "2  2019-04-01       1520.5  Durable goods\n",
              "3  2019-05-01       1539.6  Durable goods\n",
              "4  2019-06-01       1547.8  Durable goods\n",
              "..        ...          ...            ...\n",
              "80 2020-02-01      10309.2       Services\n",
              "81 2020-03-01       9379.8       Services\n",
              "82 2020-04-01       8200.2       Services\n",
              "83 2020-05-01       8675.7       Services\n",
              "84 2020-06-01       9127.6       Services\n",
              "\n",
              "[85 rows x 3 columns]"
            ]
          },
          "metadata": {
            "tags": []
          },
          "execution_count": 88
        }
      ]
    },
    {
      "cell_type": "code",
      "metadata": {
        "id": "jQyUzOsxoTkI",
        "outputId": "972f81f4-910c-488c-a589-fe96803284f3",
        "colab": {
          "base_uri": "https://localhost:8080/",
          "height": 323
        }
      },
      "source": [
        "new_data.pivot_table( 'Expenditure', ['Category'], 'Date')"
      ],
      "execution_count": null,
      "outputs": [
        {
          "output_type": "execute_result",
          "data": {
            "text/html": [
              "<div>\n",
              "<style scoped>\n",
              "    .dataframe tbody tr th:only-of-type {\n",
              "        vertical-align: middle;\n",
              "    }\n",
              "\n",
              "    .dataframe tbody tr th {\n",
              "        vertical-align: top;\n",
              "    }\n",
              "\n",
              "    .dataframe thead th {\n",
              "        text-align: right;\n",
              "    }\n",
              "</style>\n",
              "<table border=\"1\" class=\"dataframe\">\n",
              "  <thead>\n",
              "    <tr style=\"text-align: right;\">\n",
              "      <th>Date</th>\n",
              "      <th>2019-02-01</th>\n",
              "      <th>2019-03-01</th>\n",
              "      <th>2019-04-01</th>\n",
              "      <th>2019-05-01</th>\n",
              "      <th>2019-06-01</th>\n",
              "      <th>2019-07-01</th>\n",
              "      <th>2019-08-01</th>\n",
              "      <th>2019-09-01</th>\n",
              "      <th>2019-10-01</th>\n",
              "      <th>2019-11-01</th>\n",
              "      <th>2019-12-01</th>\n",
              "      <th>2020-01-01</th>\n",
              "      <th>2020-02-01</th>\n",
              "      <th>2020-03-01</th>\n",
              "      <th>2020-04-01</th>\n",
              "      <th>2020-05-01</th>\n",
              "      <th>2020-06-01</th>\n",
              "    </tr>\n",
              "    <tr>\n",
              "      <th>Category</th>\n",
              "      <th></th>\n",
              "      <th></th>\n",
              "      <th></th>\n",
              "      <th></th>\n",
              "      <th></th>\n",
              "      <th></th>\n",
              "      <th></th>\n",
              "      <th></th>\n",
              "      <th></th>\n",
              "      <th></th>\n",
              "      <th></th>\n",
              "      <th></th>\n",
              "      <th></th>\n",
              "      <th></th>\n",
              "      <th></th>\n",
              "      <th></th>\n",
              "      <th></th>\n",
              "    </tr>\n",
              "  </thead>\n",
              "  <tbody>\n",
              "    <tr>\n",
              "      <th>Durable goods</th>\n",
              "      <td>1476.9</td>\n",
              "      <td>1517.2</td>\n",
              "      <td>1520.5</td>\n",
              "      <td>1539.6</td>\n",
              "      <td>1547.8</td>\n",
              "      <td>1546.7</td>\n",
              "      <td>1550.8</td>\n",
              "      <td>1561.0</td>\n",
              "      <td>1552.2</td>\n",
              "      <td>1555.8</td>\n",
              "      <td>1554.3</td>\n",
              "      <td>1567.9</td>\n",
              "      <td>1552.5</td>\n",
              "      <td>1369.0</td>\n",
              "      <td>1198.6</td>\n",
              "      <td>1544.6</td>\n",
              "      <td>1679.5</td>\n",
              "    </tr>\n",
              "    <tr>\n",
              "      <th>Food</th>\n",
              "      <td>1000.3</td>\n",
              "      <td>1015.9</td>\n",
              "      <td>1019.7</td>\n",
              "      <td>1022.1</td>\n",
              "      <td>1028.3</td>\n",
              "      <td>1037.3</td>\n",
              "      <td>1037.8</td>\n",
              "      <td>1030.4</td>\n",
              "      <td>1032.1</td>\n",
              "      <td>1032.6</td>\n",
              "      <td>1032.6</td>\n",
              "      <td>1032.7</td>\n",
              "      <td>1033.3</td>\n",
              "      <td>1272.7</td>\n",
              "      <td>1115.6</td>\n",
              "      <td>1146.8</td>\n",
              "      <td>1141.2</td>\n",
              "    </tr>\n",
              "    <tr>\n",
              "      <th>Medical</th>\n",
              "      <td>599.0</td>\n",
              "      <td>604.5</td>\n",
              "      <td>610.3</td>\n",
              "      <td>615.2</td>\n",
              "      <td>619.5</td>\n",
              "      <td>621.8</td>\n",
              "      <td>622.7</td>\n",
              "      <td>622.2</td>\n",
              "      <td>619.8</td>\n",
              "      <td>618.7</td>\n",
              "      <td>619.6</td>\n",
              "      <td>615.8</td>\n",
              "      <td>620.8</td>\n",
              "      <td>635.7</td>\n",
              "      <td>660.9</td>\n",
              "      <td>677.6</td>\n",
              "      <td>686.1</td>\n",
              "    </tr>\n",
              "    <tr>\n",
              "      <th>Non Durable goods</th>\n",
              "      <td>2904.3</td>\n",
              "      <td>2946.8</td>\n",
              "      <td>2975.4</td>\n",
              "      <td>2981.4</td>\n",
              "      <td>2988.3</td>\n",
              "      <td>3006.9</td>\n",
              "      <td>3008.1</td>\n",
              "      <td>2987.4</td>\n",
              "      <td>3010.3</td>\n",
              "      <td>3004.1</td>\n",
              "      <td>3010.3</td>\n",
              "      <td>3024.0</td>\n",
              "      <td>3015.7</td>\n",
              "      <td>3129.7</td>\n",
              "      <td>2690.0</td>\n",
              "      <td>2893.2</td>\n",
              "      <td>3044.0</td>\n",
              "    </tr>\n",
              "    <tr>\n",
              "      <th>Services</th>\n",
              "      <td>9855.0</td>\n",
              "      <td>9906.0</td>\n",
              "      <td>9947.2</td>\n",
              "      <td>9972.0</td>\n",
              "      <td>10019.7</td>\n",
              "      <td>10058.3</td>\n",
              "      <td>10091.9</td>\n",
              "      <td>10124.8</td>\n",
              "      <td>10165.9</td>\n",
              "      <td>10192.8</td>\n",
              "      <td>10231.7</td>\n",
              "      <td>10288.6</td>\n",
              "      <td>10309.2</td>\n",
              "      <td>9379.8</td>\n",
              "      <td>8200.2</td>\n",
              "      <td>8675.7</td>\n",
              "      <td>9127.6</td>\n",
              "    </tr>\n",
              "  </tbody>\n",
              "</table>\n",
              "</div>"
            ],
            "text/plain": [
              "Date               2019-02-01  2019-03-01  ...  2020-05-01  2020-06-01\n",
              "Category                                   ...                        \n",
              "Durable goods          1476.9      1517.2  ...      1544.6      1679.5\n",
              "Food                   1000.3      1015.9  ...      1146.8      1141.2\n",
              "Medical                 599.0       604.5  ...       677.6       686.1\n",
              "Non Durable goods      2904.3      2946.8  ...      2893.2      3044.0\n",
              "Services               9855.0      9906.0  ...      8675.7      9127.6\n",
              "\n",
              "[5 rows x 17 columns]"
            ]
          },
          "metadata": {
            "tags": []
          },
          "execution_count": 89
        }
      ]
    },
    {
      "cell_type": "markdown",
      "metadata": {
        "id": "XblB_tHB0YtF"
      },
      "source": [
        "## Visulizing Trend after COVID"
      ]
    },
    {
      "cell_type": "code",
      "metadata": {
        "id": "Fp33na5fztZY",
        "outputId": "f15363f7-e09b-4fd7-a70d-ea3ce68eb8a3",
        "colab": {
          "base_uri": "https://localhost:8080/",
          "height": 525
        }
      },
      "source": [
        "new_data.pivot_table( 'Expenditure', ['Date'], 'Category').plot(figsize=(10,8))"
      ],
      "execution_count": null,
      "outputs": [
        {
          "output_type": "execute_result",
          "data": {
            "text/plain": [
              "<matplotlib.axes._subplots.AxesSubplot at 0x7f165b3f5518>"
            ]
          },
          "metadata": {
            "tags": []
          },
          "execution_count": 90
        },
        {
          "output_type": "display_data",
          "data": {
            "image/png": "[encoded data removed]",
            "text/plain": [
              "<Figure size 720x576 with 1 Axes>"
            ]
          },
          "metadata": {
            "tags": [],
            "needs_background": "light"
          }
        }
      ]
    },
    {
      "cell_type": "markdown",
      "metadata": {
        "id": "v8afvZc838Yk"
      },
      "source": [
        "Here we can observe a very interesting trend. We can see almost all the market entity went down around February, which was expected, except two. That is food and medical. With medical staying almost the same throughout. But why?"
      ]
    },
    {
      "cell_type": "markdown",
      "metadata": {
        "id": "JQCJkoB4EWk_"
      },
      "source": [
        "### health industry"
      ]
    },
    {
      "cell_type": "code",
      "metadata": {
        "id": "Snrhim5UmuRP",
        "outputId": "42009f0b-db20-4edb-824d-f57e33ed8172",
        "colab": {
          "base_uri": "https://localhost:8080/",
          "height": 314
        }
      },
      "source": [
        "plt.xticks(rotation = 'vertical')\n",
        "plt.plot(new_medicaid.Date,new_medicaid['Expenditure'])"
      ],
      "execution_count": null,
      "outputs": [
        {
          "output_type": "execute_result",
          "data": {
            "text/plain": [
              "[<matplotlib.lines.Line2D at 0x7f165b34e3c8>]"
            ]
          },
          "metadata": {
            "tags": []
          },
          "execution_count": 91
        },
        {
          "output_type": "display_data",
          "data": {
            "image/png": "[encoded data removed]",
            "text/plain": [
              "<Figure size 432x288 with 1 Axes>"
            ]
          },
          "metadata": {
            "tags": [],
            "needs_background": "light"
          }
        }
      ]
    },
    {
      "cell_type": "markdown",
      "metadata": {
        "id": "nAS4-DYO4LYH"
      },
      "source": [
        "Here we can see that this industry in-fact did rose a great deal upon close inspection. Right after January, the demand for medical attention and that of the industry has risen abruptly as-well. Which in-fact is to be expected as-well. That is around 10% rise since January."
      ]
    },
    {
      "cell_type": "markdown",
      "metadata": {
        "id": "rb4HchA2Eas2"
      },
      "source": [
        "### Food Industry"
      ]
    },
    {
      "cell_type": "code",
      "metadata": {
        "id": "uBONYPuLEb8E",
        "outputId": "f3a60a33-d494-47c7-93a9-64b1bf38de5d",
        "colab": {
          "base_uri": "https://localhost:8080/",
          "height": 314
        }
      },
      "source": [
        "plt.xticks(rotation = 'vertical')\n",
        "plt.plot(new_food.Date,new_food['Expenditure'])"
      ],
      "execution_count": null,
      "outputs": [
        {
          "output_type": "execute_result",
          "data": {
            "text/plain": [
              "[<matplotlib.lines.Line2D at 0x7f165b4ddcc0>]"
            ]
          },
          "metadata": {
            "tags": []
          },
          "execution_count": 92
        },
        {
          "output_type": "display_data",
          "data": {
            "image/png": "[encoded data removed]",
            "text/plain": [
              "<Figure size 432x288 with 1 Axes>"
            ]
          },
          "metadata": {
            "tags": [],
            "needs_background": "light"
          }
        }
      ]
    },
    {
      "cell_type": "markdown",
      "metadata": {
        "id": "VygaiWhk4DW9"
      },
      "source": [
        "See how industry rose for about half a month and abruptly fell down just as quickly. This could be justified with the panic that rose among the public at the start of the outbreak. upon the government issuance of the lockdown, public starting stocking up food and groceries which led to the demand of the industry. However, the impact was short and abrupt hence the fall in graph again. \n",
        "However, we could still observe that industry is still facing ups and downs hence we could claim that an amount of population might still be stocking up.\n"
      ]
    },
    {
      "cell_type": "markdown",
      "metadata": {
        "id": "lardLa53FLiH"
      },
      "source": [
        "### Service Industry"
      ]
    },
    {
      "cell_type": "code",
      "metadata": {
        "id": "YRlijnQYE5wN",
        "outputId": "d00aae25-448f-43c4-b46f-ca88b5c9e23f",
        "colab": {
          "base_uri": "https://localhost:8080/",
          "height": 314
        }
      },
      "source": [
        "plt.xticks(rotation = 'vertical')\n",
        "plt.plot(new_services.Date,new_services['Expenditure'])"
      ],
      "execution_count": null,
      "outputs": [
        {
          "output_type": "execute_result",
          "data": {
            "text/plain": [
              "[<matplotlib.lines.Line2D at 0x7f165b5baac8>]"
            ]
          },
          "metadata": {
            "tags": []
          },
          "execution_count": 93
        },
        {
          "output_type": "display_data",
          "data": {
            "image/png": "[encoded data removed]",
            "text/plain": [
              "<Figure size 432x288 with 1 Axes>"
            ]
          },
          "metadata": {
            "tags": [],
            "needs_background": "light"
          }
        }
      ]
    },
    {
      "cell_type": "markdown",
      "metadata": {
        "id": "XitOh3k3FUgU"
      },
      "source": [
        "### Industry of Durable goods"
      ]
    },
    {
      "cell_type": "code",
      "metadata": {
        "id": "DBuFIgS8E-Hv",
        "outputId": "71217873-b6b8-422f-920b-cce6d6ceaf5d",
        "colab": {
          "base_uri": "https://localhost:8080/",
          "height": 317
        }
      },
      "source": [
        "plt.xticks(rotation = 'vertical')\n",
        "plt.plot(new_durable.Date,new_durable['Expenditure'])"
      ],
      "execution_count": null,
      "outputs": [
        {
          "output_type": "execute_result",
          "data": {
            "text/plain": [
              "[<matplotlib.lines.Line2D at 0x7f166389dc88>]"
            ]
          },
          "metadata": {
            "tags": []
          },
          "execution_count": 94
        },
        {
          "output_type": "display_data",
          "data": {
            "image/png": "[encoded data removed]",
            "text/plain": [
              "<Figure size 432x288 with 1 Axes>"
            ]
          },
          "metadata": {
            "tags": [],
            "needs_background": "light"
          }
        }
      ]
    },
    {
      "cell_type": "markdown",
      "metadata": {
        "id": "xOgcoHj-FdyN"
      },
      "source": [
        "### Industry of nondurable goods"
      ]
    },
    {
      "cell_type": "code",
      "metadata": {
        "id": "ucMq5IUtFZun",
        "outputId": "2c0dc2ba-8e6b-4af8-e236-3b8dbe2befbc",
        "colab": {
          "base_uri": "https://localhost:8080/",
          "height": 314
        }
      },
      "source": [
        "plt.xticks(rotation = 'vertical')\n",
        "plt.plot(new_nondurable.Date,new_nondurable['Expenditure'])"
      ],
      "execution_count": null,
      "outputs": [
        {
          "output_type": "execute_result",
          "data": {
            "text/plain": [
              "[<matplotlib.lines.Line2D at 0x7f16873c32b0>]"
            ]
          },
          "metadata": {
            "tags": []
          },
          "execution_count": 95
        },
        {
          "output_type": "display_data",
          "data": {
            "image/png": "[encoded data removed]",
            "text/plain": [
              "<Figure size 432x288 with 1 Axes>"
            ]
          },
          "metadata": {
            "tags": [],
            "needs_background": "light"
          }
        }
      ]
    },
    {
      "cell_type": "markdown",
      "metadata": {
        "id": "npObspr34ePE"
      },
      "source": [
        "# Interpretation"
      ]
    },
    {
      "cell_type": "markdown",
      "metadata": {
        "id": "IMhAtyrB4dIW"
      },
      "source": [
        "Now we already know PCE was at $13 trillion in the second quarter of 2020, according to the Bureau of Economic Analysis (BEA). That's down 34.6% from the first quarter of 2020, which was already down 6.9% from 2019.\n",
        "Spending on durable goods, like automobiles, fell 13.8%. Spending on services, like hair salons, fell 9.8%. Spending on food, like groceries, rose 8.0%.\n",
        "U.S. retail sales in the second quarter fell 8.1% from the same quarter in 2019, according to Census Bureau data.5 The annualized rate well below the 3% annual retail sales growth rate viewed as desirable. Stores shut down and consumers stayed home to avoid the pandemic. This contributed to a 24.9% increase in online sales, as shoppers felt safer having their goods delivered.\n",
        "This accentuated a long-term trend. Online sales for Black Friday in 2019 grew by 19.6% over the previous year, according to Adobe data.6 Brick-and-mortar store sales increased by only 1.6% from 2018, says RetailNext.\n"
      ]
    }
  ]
}